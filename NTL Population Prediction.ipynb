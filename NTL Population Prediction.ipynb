{
  "nbformat": 4,
  "nbformat_minor": 0,
  "metadata": {
    "colab": {
      "name": "Homework1_2748350.ipynb",
      "version": "0.3.2",
      "provenance": [],
      "collapsed_sections": []
    },
    "kernelspec": {
      "name": "python3",
      "display_name": "Python 3"
    }
  },
  "cells": [
    {
      "metadata": {
        "id": "ln62LVn45_82",
        "colab_type": "text"
      },
      "cell_type": "markdown",
      "source": [
        "# **Night time light (NTL) and population**"
      ]
    },
    {
      "metadata": {
        "id": "g32tJVmc6EBU",
        "colab_type": "text"
      },
      "cell_type": "markdown",
      "source": [
        "Importing the most commonly used libraries and packages "
      ]
    },
    {
      "metadata": {
        "id": "Vw_yKqdcL34d",
        "colab_type": "code",
        "colab": {}
      },
      "cell_type": "code",
      "source": [
        "# Handle table-like data and matrices\n",
        "import numpy as np\n",
        "import pandas as pd\n",
        "\n",
        "# Modelling Algorithms\n",
        "from sklearn.tree import DecisionTreeClassifier\n",
        "from sklearn.linear_model import LogisticRegression\n",
        "from sklearn.neighbors import KNeighborsClassifier\n",
        "from sklearn.naive_bayes import GaussianNB\n",
        "from sklearn.svm import SVC, LinearSVC\n",
        "from sklearn.ensemble import RandomForestClassifier , GradientBoostingClassifier\n",
        "from sklearn.preprocessing import StandardScaler\n",
        "\n",
        "\n",
        "# importing packages for visualisation\n",
        "import matplotlib as mpl\n",
        "import matplotlib.pyplot as plt\n",
        "import matplotlib.pylab as pylab\n",
        "import seaborn as sns\n"
      ],
      "execution_count": 0,
      "outputs": []
    },
    {
      "metadata": {
        "id": "2iqp0Sx9MA6Z",
        "colab_type": "text"
      },
      "cell_type": "markdown",
      "source": [
        "Importing source data through a downloadable link "
      ]
    },
    {
      "metadata": {
        "id": "lxVR_PM-wn1W",
        "colab_type": "code",
        "colab": {}
      },
      "cell_type": "code",
      "source": [
        "from pandas import read_excel\n",
        "#The file is fetched from the below mentioned url\n",
        "url = \"https://drive.google.com/uc?export=download&id=1T5WGzsDKTmOqmBiDj0sJY2_5gsHBvDXw \"\n",
        "dataset = pd.read_excel(url, header=0)\n"
      ],
      "execution_count": 0,
      "outputs": []
    },
    {
      "metadata": {
        "id": "wFK6GtgGWIVA",
        "colab_type": "text"
      },
      "cell_type": "markdown",
      "source": [
        "# **EDA**\n",
        "\n",
        "Let's walk through the data to see if we can get more infomration about the data"
      ]
    },
    {
      "metadata": {
        "id": "8dpW2pFxWU_T",
        "colab_type": "code",
        "outputId": "459d8707-4a45-4b64-8c11-152d2c2e7953",
        "colab": {
          "base_uri": "https://localhost:8080/",
          "height": 248
        }
      },
      "cell_type": "code",
      "source": [
        "print(dataset.head()) #Top 5 rows in the dataset"
      ],
      "execution_count": 0,
      "outputs": [
        {
          "output_type": "stream",
          "text": [
            "  Month    Q0    Q1  Q2pt5    Q5   Q10   Q25   Q50   Q75   Q90    Q95  \\\n",
            "0   JUL  0.00  0.00   0.00  0.00  0.00  0.00  0.00  0.00  0.00  0.000   \n",
            "1   JUL  0.02  0.08   0.09  0.11  0.13  0.18  0.30  0.72  1.89  4.110   \n",
            "2   JUL  0.10  0.15   0.16  0.18  0.20  0.23  0.30  0.46  0.82  1.363   \n",
            "3   JUL -0.04  0.03   0.04  0.05  0.07  0.12  0.21  0.47  0.92  1.500   \n",
            "4   JUL  0.00  0.00   0.00  0.00  0.00  0.00  0.00  0.00  0.00  0.000   \n",
            "\n",
            "     Q97pt5      Q99        Q100     STNAME         CTYNAME  POPESTIMATE2015  \n",
            "0   0.00000   0.0000    0.000000   Maryland        Allegany            72498  \n",
            "1  10.37625  18.9790   95.500000    Alabama         Russell            58847  \n",
            "2   3.11650   7.0808   42.669998    Georgia      Meriwether            21186  \n",
            "3   2.93425   8.3137  203.500000  Louisiana  Cameron Parish             6815  \n",
            "4   0.00000   0.0000    0.000000       Iowa          Clarke             9227  \n"
          ],
          "name": "stdout"
        }
      ]
    },
    {
      "metadata": {
        "id": "PpPHAeWNWYAi",
        "colab_type": "code",
        "outputId": "e6f1caed-4461-4a38-f0e5-bdcef57bfbc7",
        "colab": {
          "base_uri": "https://localhost:8080/",
          "height": 282
        }
      },
      "cell_type": "code",
      "source": [
        "#Descriptive statistics\n",
        "dataset.describe()  "
      ],
      "execution_count": 0,
      "outputs": [
        {
          "output_type": "execute_result",
          "data": {
            "text/html": [
              "<div>\n",
              "<style scoped>\n",
              "    .dataframe tbody tr th:only-of-type {\n",
              "        vertical-align: middle;\n",
              "    }\n",
              "\n",
              "    .dataframe tbody tr th {\n",
              "        vertical-align: top;\n",
              "    }\n",
              "\n",
              "    .dataframe thead th {\n",
              "        text-align: right;\n",
              "    }\n",
              "</style>\n",
              "<table border=\"1\" class=\"dataframe\">\n",
              "  <thead>\n",
              "    <tr style=\"text-align: right;\">\n",
              "      <th></th>\n",
              "      <th>Q0</th>\n",
              "      <th>Q1</th>\n",
              "      <th>Q2pt5</th>\n",
              "      <th>Q5</th>\n",
              "      <th>Q10</th>\n",
              "      <th>Q25</th>\n",
              "      <th>Q50</th>\n",
              "      <th>Q75</th>\n",
              "      <th>Q90</th>\n",
              "      <th>Q95</th>\n",
              "      <th>Q97pt5</th>\n",
              "      <th>Q99</th>\n",
              "      <th>Q100</th>\n",
              "      <th>POPESTIMATE2015</th>\n",
              "    </tr>\n",
              "  </thead>\n",
              "  <tbody>\n",
              "    <tr>\n",
              "      <th>count</th>\n",
              "      <td>2500.000000</td>\n",
              "      <td>2500.000000</td>\n",
              "      <td>2500.000000</td>\n",
              "      <td>2500.000000</td>\n",
              "      <td>2500.000000</td>\n",
              "      <td>2500.000000</td>\n",
              "      <td>2500.000000</td>\n",
              "      <td>2500.000000</td>\n",
              "      <td>2500.000000</td>\n",
              "      <td>2500.000000</td>\n",
              "      <td>2500.000000</td>\n",
              "      <td>2500.000000</td>\n",
              "      <td>2500.000000</td>\n",
              "      <td>2.500000e+03</td>\n",
              "    </tr>\n",
              "    <tr>\n",
              "      <th>mean</th>\n",
              "      <td>-0.002188</td>\n",
              "      <td>0.038799</td>\n",
              "      <td>0.053699</td>\n",
              "      <td>0.070809</td>\n",
              "      <td>0.097120</td>\n",
              "      <td>0.174372</td>\n",
              "      <td>0.351830</td>\n",
              "      <td>0.783197</td>\n",
              "      <td>1.777998</td>\n",
              "      <td>2.982530</td>\n",
              "      <td>4.716755</td>\n",
              "      <td>8.087240</td>\n",
              "      <td>39.663584</td>\n",
              "      <td>1.058292e+05</td>\n",
              "    </tr>\n",
              "    <tr>\n",
              "      <th>std</th>\n",
              "      <td>0.141941</td>\n",
              "      <td>0.171293</td>\n",
              "      <td>0.230851</td>\n",
              "      <td>0.304831</td>\n",
              "      <td>0.425011</td>\n",
              "      <td>0.825364</td>\n",
              "      <td>1.685318</td>\n",
              "      <td>3.355028</td>\n",
              "      <td>6.304048</td>\n",
              "      <td>8.998663</td>\n",
              "      <td>12.084223</td>\n",
              "      <td>17.355886</td>\n",
              "      <td>98.100495</td>\n",
              "      <td>3.532298e+05</td>\n",
              "    </tr>\n",
              "    <tr>\n",
              "      <th>min</th>\n",
              "      <td>-0.580000</td>\n",
              "      <td>-0.280000</td>\n",
              "      <td>-0.180000</td>\n",
              "      <td>-0.120000</td>\n",
              "      <td>-0.070000</td>\n",
              "      <td>-0.020000</td>\n",
              "      <td>0.000000</td>\n",
              "      <td>0.000000</td>\n",
              "      <td>0.000000</td>\n",
              "      <td>0.000000</td>\n",
              "      <td>0.000000</td>\n",
              "      <td>0.000000</td>\n",
              "      <td>0.000000</td>\n",
              "      <td>8.800000e+01</td>\n",
              "    </tr>\n",
              "    <tr>\n",
              "      <th>25%</th>\n",
              "      <td>-0.010000</td>\n",
              "      <td>0.000000</td>\n",
              "      <td>0.000000</td>\n",
              "      <td>0.000000</td>\n",
              "      <td>0.000000</td>\n",
              "      <td>0.000000</td>\n",
              "      <td>0.000000</td>\n",
              "      <td>0.000000</td>\n",
              "      <td>0.000000</td>\n",
              "      <td>0.000000</td>\n",
              "      <td>0.000000</td>\n",
              "      <td>0.000000</td>\n",
              "      <td>0.000000</td>\n",
              "      <td>1.088100e+04</td>\n",
              "    </tr>\n",
              "    <tr>\n",
              "      <th>50%</th>\n",
              "      <td>0.000000</td>\n",
              "      <td>0.000000</td>\n",
              "      <td>0.000000</td>\n",
              "      <td>0.000000</td>\n",
              "      <td>0.000000</td>\n",
              "      <td>0.000000</td>\n",
              "      <td>0.000000</td>\n",
              "      <td>0.000000</td>\n",
              "      <td>0.000000</td>\n",
              "      <td>0.000000</td>\n",
              "      <td>0.000000</td>\n",
              "      <td>0.165000</td>\n",
              "      <td>0.585000</td>\n",
              "      <td>2.575600e+04</td>\n",
              "    </tr>\n",
              "    <tr>\n",
              "      <th>75%</th>\n",
              "      <td>0.000000</td>\n",
              "      <td>0.030000</td>\n",
              "      <td>0.050000</td>\n",
              "      <td>0.070000</td>\n",
              "      <td>0.090000</td>\n",
              "      <td>0.140000</td>\n",
              "      <td>0.230000</td>\n",
              "      <td>0.420000</td>\n",
              "      <td>0.860000</td>\n",
              "      <td>1.583250</td>\n",
              "      <td>3.291500</td>\n",
              "      <td>8.595625</td>\n",
              "      <td>50.370000</td>\n",
              "      <td>7.043000e+04</td>\n",
              "    </tr>\n",
              "    <tr>\n",
              "      <th>max</th>\n",
              "      <td>2.610000</td>\n",
              "      <td>2.773600</td>\n",
              "      <td>6.000000</td>\n",
              "      <td>7.636000</td>\n",
              "      <td>10.530000</td>\n",
              "      <td>17.709999</td>\n",
              "      <td>32.000000</td>\n",
              "      <td>50.889999</td>\n",
              "      <td>74.743997</td>\n",
              "      <td>97.989998</td>\n",
              "      <td>122.191002</td>\n",
              "      <td>191.830002</td>\n",
              "      <td>2209.040039</td>\n",
              "      <td>1.012325e+07</td>\n",
              "    </tr>\n",
              "  </tbody>\n",
              "</table>\n",
              "</div>"
            ],
            "text/plain": [
              "                Q0           Q1        Q2pt5           Q5          Q10  \\\n",
              "count  2500.000000  2500.000000  2500.000000  2500.000000  2500.000000   \n",
              "mean     -0.002188     0.038799     0.053699     0.070809     0.097120   \n",
              "std       0.141941     0.171293     0.230851     0.304831     0.425011   \n",
              "min      -0.580000    -0.280000    -0.180000    -0.120000    -0.070000   \n",
              "25%      -0.010000     0.000000     0.000000     0.000000     0.000000   \n",
              "50%       0.000000     0.000000     0.000000     0.000000     0.000000   \n",
              "75%       0.000000     0.030000     0.050000     0.070000     0.090000   \n",
              "max       2.610000     2.773600     6.000000     7.636000    10.530000   \n",
              "\n",
              "               Q25          Q50          Q75          Q90          Q95  \\\n",
              "count  2500.000000  2500.000000  2500.000000  2500.000000  2500.000000   \n",
              "mean      0.174372     0.351830     0.783197     1.777998     2.982530   \n",
              "std       0.825364     1.685318     3.355028     6.304048     8.998663   \n",
              "min      -0.020000     0.000000     0.000000     0.000000     0.000000   \n",
              "25%       0.000000     0.000000     0.000000     0.000000     0.000000   \n",
              "50%       0.000000     0.000000     0.000000     0.000000     0.000000   \n",
              "75%       0.140000     0.230000     0.420000     0.860000     1.583250   \n",
              "max      17.709999    32.000000    50.889999    74.743997    97.989998   \n",
              "\n",
              "            Q97pt5          Q99         Q100  POPESTIMATE2015  \n",
              "count  2500.000000  2500.000000  2500.000000     2.500000e+03  \n",
              "mean      4.716755     8.087240    39.663584     1.058292e+05  \n",
              "std      12.084223    17.355886    98.100495     3.532298e+05  \n",
              "min       0.000000     0.000000     0.000000     8.800000e+01  \n",
              "25%       0.000000     0.000000     0.000000     1.088100e+04  \n",
              "50%       0.000000     0.165000     0.585000     2.575600e+04  \n",
              "75%       3.291500     8.595625    50.370000     7.043000e+04  \n",
              "max     122.191002   191.830002  2209.040039     1.012325e+07  "
            ]
          },
          "metadata": {
            "tags": []
          },
          "execution_count": 5
        }
      ]
    },
    {
      "metadata": {
        "id": "rfQfs1ybWhg0",
        "colab_type": "code",
        "outputId": "19c57f37-109b-4a72-f961-fcc2a4ced798",
        "colab": {
          "base_uri": "https://localhost:8080/",
          "height": 408
        }
      },
      "cell_type": "code",
      "source": [
        "dataset.info()"
      ],
      "execution_count": 0,
      "outputs": [
        {
          "output_type": "stream",
          "text": [
            "<class 'pandas.core.frame.DataFrame'>\n",
            "RangeIndex: 2500 entries, 0 to 2499\n",
            "Data columns (total 17 columns):\n",
            "Month              2500 non-null object\n",
            "Q0                 2500 non-null float64\n",
            "Q1                 2500 non-null float64\n",
            "Q2pt5              2500 non-null float64\n",
            "Q5                 2500 non-null float64\n",
            "Q10                2500 non-null float64\n",
            "Q25                2500 non-null float64\n",
            "Q50                2500 non-null float64\n",
            "Q75                2500 non-null float64\n",
            "Q90                2500 non-null float64\n",
            "Q95                2500 non-null float64\n",
            "Q97pt5             2500 non-null float64\n",
            "Q99                2500 non-null float64\n",
            "Q100               2500 non-null float64\n",
            "STNAME             2500 non-null object\n",
            "CTYNAME            2500 non-null object\n",
            "POPESTIMATE2015    2500 non-null int64\n",
            "dtypes: float64(13), int64(1), object(3)\n",
            "memory usage: 332.1+ KB\n"
          ],
          "name": "stdout"
        }
      ]
    },
    {
      "metadata": {
        "id": "YFENqLnsWj23",
        "colab_type": "code",
        "outputId": "7f1045f4-4941-498c-ed00-d670d9006ec5",
        "colab": {
          "base_uri": "https://localhost:8080/",
          "height": 35
        }
      },
      "cell_type": "code",
      "source": [
        "dataset.shape"
      ],
      "execution_count": 0,
      "outputs": [
        {
          "output_type": "execute_result",
          "data": {
            "text/plain": [
              "(2500, 17)"
            ]
          },
          "metadata": {
            "tags": []
          },
          "execution_count": 7
        }
      ]
    },
    {
      "metadata": {
        "id": "WrcLEC1yWm3x",
        "colab_type": "code",
        "outputId": "d0863979-fcf2-48c0-aee4-6bdc8d05d5fd",
        "colab": {
          "base_uri": "https://localhost:8080/",
          "height": 337
        }
      },
      "cell_type": "code",
      "source": [
        "dataset.dtypes"
      ],
      "execution_count": 0,
      "outputs": [
        {
          "output_type": "execute_result",
          "data": {
            "text/plain": [
              "Month               object\n",
              "Q0                 float64\n",
              "Q1                 float64\n",
              "Q2pt5              float64\n",
              "Q5                 float64\n",
              "Q10                float64\n",
              "Q25                float64\n",
              "Q50                float64\n",
              "Q75                float64\n",
              "Q90                float64\n",
              "Q95                float64\n",
              "Q97pt5             float64\n",
              "Q99                float64\n",
              "Q100               float64\n",
              "STNAME              object\n",
              "CTYNAME             object\n",
              "POPESTIMATE2015      int64\n",
              "dtype: object"
            ]
          },
          "metadata": {
            "tags": []
          },
          "execution_count": 8
        }
      ]
    },
    {
      "metadata": {
        "id": "DLb8_tRDXNTx",
        "colab_type": "text"
      },
      "cell_type": "markdown",
      "source": [
        "Identifying top 30 highly populated cities\n",
        "\n",
        "As we can see from the below chart, Los Angeles has the highest population compared to all other cities in the U.S"
      ]
    },
    {
      "metadata": {
        "id": "Ua8U6WFIXPrV",
        "colab_type": "code",
        "outputId": "860e6f35-914d-4344-d560-0cf24ebb0409",
        "colab": {
          "base_uri": "https://localhost:8080/",
          "height": 378
        }
      },
      "cell_type": "code",
      "source": [
        "top_30_cities = dataset.nlargest(30, 'POPESTIMATE2015')\n",
        "top_30_cities.plot.barh(x='CTYNAME', y='POPESTIMATE2015', rot=0)"
      ],
      "execution_count": 0,
      "outputs": [
        {
          "output_type": "execute_result",
          "data": {
            "text/plain": [
              "<matplotlib.axes._subplots.AxesSubplot at 0x7fa72168a390>"
            ]
          },
          "metadata": {
            "tags": []
          },
          "execution_count": 9
        },
        {
          "output_type": "display_data",
          "data": {
            "image/png": "[encoded data removed]",
            "text/plain": [
              "<Figure size 576x396 with 1 Axes>"
            ]
          },
          "metadata": {
            "tags": []
          }
        }
      ]
    },
    {
      "metadata": {
        "id": "YfTeuV7sHaf1",
        "colab_type": "text"
      },
      "cell_type": "markdown",
      "source": [
        "Plotting the population estimate values in the increasing order grouped by state\n",
        "\n",
        "The below plot shows that California has the highest population\n",
        "\n",
        "  "
      ]
    },
    {
      "metadata": {
        "id": "MGOJ23AY-wu6",
        "colab_type": "code",
        "outputId": "902042cc-9a12-4196-c75d-12ba0329bb06",
        "colab": {
          "base_uri": "https://localhost:8080/",
          "height": 364
        }
      },
      "cell_type": "code",
      "source": [
        "Population_State = dataset[['STNAME', 'POPESTIMATE2015']].groupby(['STNAME'], as_index=False).mean().sort_values(by='POPESTIMATE2015', ascending= True)\n",
        "top_30_state = Population_State.nlargest(30, 'POPESTIMATE2015')\n",
        "top_30_state.plot.barh(x='STNAME', y='POPESTIMATE2015', rot=0)"
      ],
      "execution_count": 0,
      "outputs": [
        {
          "output_type": "execute_result",
          "data": {
            "text/plain": [
              "<matplotlib.axes._subplots.AxesSubplot at 0x7fa71f547278>"
            ]
          },
          "metadata": {
            "tags": []
          },
          "execution_count": 10
        },
        {
          "output_type": "display_data",
          "data": {
            "image/png": "[encoded data removed]",
            "text/plain": [
              "<Figure size 576x396 with 1 Axes>"
            ]
          },
          "metadata": {
            "tags": []
          }
        }
      ]
    },
    {
      "metadata": {
        "id": "0KjULNgT6BUR",
        "colab_type": "text"
      },
      "cell_type": "markdown",
      "source": [
        "# **Boxplot for Q values**"
      ]
    },
    {
      "metadata": {
        "id": "r6ysKfbW6uQ5",
        "colab_type": "code",
        "outputId": "0aad3966-9203-4153-e831-0538305bbba1",
        "colab": {
          "base_uri": "https://localhost:8080/",
          "height": 382
        }
      },
      "cell_type": "code",
      "source": [
        "bplot=sns.boxplot(data =dataset.iloc[:,1:13],orient =\"v\")\n",
        "bplot.set_yscale('log') #Setting the plot to log scale as visualization of data will be easier"
      ],
      "execution_count": 0,
      "outputs": [
        {
          "output_type": "stream",
          "text": [
            "/usr/local/lib/python3.6/dist-packages/seaborn/categorical.py:454: FutureWarning: remove_na is deprecated and is a private function. Do not use.\n",
            "  box_data = remove_na(group_data)\n"
          ],
          "name": "stderr"
        },
        {
          "output_type": "display_data",
          "data": {
            "image/png": "[encoded data removed]",
            "text/plain": [
              "<Figure size 576x396 with 1 Axes>"
            ]
          },
          "metadata": {
            "tags": []
          }
        }
      ]
    },
    {
      "metadata": {
        "id": "hCuOf8YOBHGO",
        "colab_type": "code",
        "outputId": "7e43a0a3-f398-4d67-ac5c-9d9df40b3cb8",
        "colab": {
          "base_uri": "https://localhost:8080/",
          "height": 415
        }
      },
      "cell_type": "code",
      "source": [
        "bplot2=sns.boxplot(data=dataset.iloc[:,13],orient=\"v\")\n",
        "bplot2.set_yscale('log')\n",
        "plt.title('Boxplot for Q100')"
      ],
      "execution_count": 0,
      "outputs": [
        {
          "output_type": "stream",
          "text": [
            "/usr/local/lib/python3.6/dist-packages/seaborn/categorical.py:454: FutureWarning: remove_na is deprecated and is a private function. Do not use.\n",
            "  box_data = remove_na(group_data)\n"
          ],
          "name": "stderr"
        },
        {
          "output_type": "execute_result",
          "data": {
            "text/plain": [
              "Text(0.5, 1.0, 'Boxplot for Q100')"
            ]
          },
          "metadata": {
            "tags": []
          },
          "execution_count": 12
        },
        {
          "output_type": "display_data",
          "data": {
            "image/png": "[encoded data removed]",
            "text/plain": [
              "<Figure size 576x396 with 1 Axes>"
            ]
          },
          "metadata": {
            "tags": []
          }
        }
      ]
    },
    {
      "metadata": {
        "id": "gkUOLb2v508C",
        "colab_type": "text"
      },
      "cell_type": "markdown",
      "source": [
        "# **Set Random Seed**"
      ]
    },
    {
      "metadata": {
        "id": "4smnphBr55PU",
        "colab_type": "code",
        "colab": {}
      },
      "cell_type": "code",
      "source": [
        "np.random.seed(123)"
      ],
      "execution_count": 0,
      "outputs": []
    },
    {
      "metadata": {
        "id": "dAVs3MS0NNjq",
        "colab_type": "text"
      },
      "cell_type": "markdown",
      "source": [
        "Let us separate the independent variables from the dataset. We are selecting only the columns which start with 'Q' as independent variables. Also, we can see that there are lot of negative values and they are due to  the error in measurements of sensors. So we can impute the negative values with zero."
      ]
    },
    {
      "metadata": {
        "id": "d8F51cRPL3E2",
        "colab_type": "code",
        "colab": {}
      },
      "cell_type": "code",
      "source": [
        "x=dataset.iloc[:,1:14] #selecting only the desired columns\n",
        "x[x<0] =0 #Values less than 0 will be replaced with 0"
      ],
      "execution_count": 0,
      "outputs": []
    },
    {
      "metadata": {
        "id": "FSIANb43NoCI",
        "colab_type": "text"
      },
      "cell_type": "markdown",
      "source": [
        " **Standardized Scaling:**\n",
        " \n",
        " Standardize features by removing the mean and scaling to unit variance. Since the range of values of raw data varies widely, in some machine learning algorithms, objective functions will not work properly without normalization. Another reason why feature scaling is applied is that gradient descent converges much faster with feature scaling than without it."
      ]
    },
    {
      "metadata": {
        "id": "cC13fr6OG90X",
        "colab_type": "code",
        "colab": {}
      },
      "cell_type": "code",
      "source": [
        "from sklearn.preprocessing import StandardScaler\n",
        "scaler=StandardScaler()\n",
        "scaler.fit(x) \n",
        "x_scaled=scaler.transform(x)\n",
        "x_scaled= pd.DataFrame(x_scaled)"
      ],
      "execution_count": 0,
      "outputs": []
    },
    {
      "metadata": {
        "id": "YbE8Wzb_9M6o",
        "colab_type": "text"
      },
      "cell_type": "markdown",
      "source": [
        "**Principal Component Analysis(PCA):**\n",
        "\n",
        "In our problem, we may prefer to reduce the number of variables, but if we are not sure which variables to remove, then we try to do PCA. So, let us try to reduce the dimensionality by calculating PCA for the scaled values of x"
      ]
    },
    {
      "metadata": {
        "id": "CMx7seqEOEQK",
        "colab_type": "code",
        "outputId": "ee40440e-0336-4546-f357-f3a219b50f5c",
        "colab": {
          "base_uri": "https://localhost:8080/",
          "height": 35
        }
      },
      "cell_type": "code",
      "source": [
        "from sklearn.decomposition import PCA\n",
        "pca = PCA(n_components=10, svd_solver='full') # assuming i need 10 components\n",
        "pca.fit(x_scaled)\n",
        "x_pca=pca.transform(x_scaled)\n",
        "print(np.cumsum(np.round(pca.explained_variance_ratio_, decimals=4)*100))"
      ],
      "execution_count": 0,
      "outputs": [
        {
          "output_type": "stream",
          "text": [
            "[75.78 88.67 94.66 97.58 98.89 99.39 99.63 99.77 99.86 99.93]\n"
          ],
          "name": "stdout"
        }
      ]
    },
    {
      "metadata": {
        "id": "R9MTTKqSdOs0",
        "colab_type": "text"
      },
      "cell_type": "markdown",
      "source": [
        "As we can see from above, 10 prinicipal components account for approximately 99.93% of the variance\n",
        "\n",
        " We can make a heat-plot(shown below) to see how the features mixed up to create the components."
      ]
    },
    {
      "metadata": {
        "id": "R-IOfs4CBxWW",
        "colab_type": "code",
        "outputId": "dd91c80d-b910-46bd-9bf8-6a1b27526ecd",
        "colab": {
          "base_uri": "https://localhost:8080/",
          "height": 406
        }
      },
      "cell_type": "code",
      "source": [
        "plt.matshow(pca.components_,cmap='viridis')\n",
        "plt.yticks([0,1,2,3,4,5,6,7,8,9],['1st Comp','2nd Comp','3rd Comp','4th Comp','5th Comp','6th Comp','7th Comp','8th Comp','9th Comp','10th Comp'],fontsize=10)\n",
        "plt.colorbar()\n",
        "plt.xticks(range(len(list(x.columns.values))),x.columns.values,rotation=65,ha='left')\n",
        "plt.tight_layout()\n",
        "plt.title('PCs and their dependence on original variables',y=1.2)\n",
        "plt.show()"
      ],
      "execution_count": 0,
      "outputs": [
        {
          "output_type": "stream",
          "text": [
            "/usr/local/lib/python3.6/dist-packages/matplotlib/figure.py:2366: UserWarning: This figure includes Axes that are not compatible with tight_layout, so results might be incorrect.\n",
            "  warnings.warn(\"This figure includes Axes that are not compatible \"\n"
          ],
          "name": "stderr"
        },
        {
          "output_type": "display_data",
          "data": {
            "image/png": "[encoded data removed]",
            "text/plain": [
              "<Figure size 514.8x396 with 2 Axes>"
            ]
          },
          "metadata": {
            "tags": []
          }
        }
      ]
    },
    {
      "metadata": {
        "id": "jnuJoo5FJztJ",
        "colab_type": "text"
      },
      "cell_type": "markdown",
      "source": [
        "It’s actually difficult to understand how correlated the original features are from the above plot but we can always map the correlation of the features using heat-plot. We can see the correlation between independent variables from the plot below. We can see that most of the independent variables are highly correlated among them."
      ]
    },
    {
      "metadata": {
        "id": "6jnp7Lm9GGgi",
        "colab_type": "code",
        "outputId": "80caa2ee-11db-400f-d54b-ba337760b16a",
        "colab": {
          "base_uri": "https://localhost:8080/",
          "height": 305
        }
      },
      "cell_type": "code",
      "source": [
        "# Generate a large random dataset\n",
        "rs = np.random.RandomState(33)\n",
        "d = pd.DataFrame(data=x,columns=x.columns)\n",
        "\n",
        "# Compute the correlation matrix\n",
        "corr = x.corr()\n",
        "\n",
        "\n",
        "corr.style.background_gradient().set_precision(2)\n"
      ],
      "execution_count": 0,
      "outputs": [
        {
          "output_type": "execute_result",
          "data": {
            "text/html": [
              "<style  type=\"text/css\" >\n",
              "    #T_f2e8497c_28b4_11e9_9906_0242ac1c0002row0_col0 {\n",
              "            background-color:  #023858;\n",
              "        }    #T_f2e8497c_28b4_11e9_9906_0242ac1c0002row0_col1 {\n",
              "            background-color:  #034369;\n",
              "        }    #T_f2e8497c_28b4_11e9_9906_0242ac1c0002row0_col2 {\n",
              "            background-color:  #045788;\n",
              "        }    #T_f2e8497c_28b4_11e9_9906_0242ac1c0002row0_col3 {\n",
              "            background-color:  #046096;\n",
              "        }    #T_f2e8497c_28b4_11e9_9906_0242ac1c0002row0_col4 {\n",
              "            background-color:  #04629a;\n",
              "        }    #T_f2e8497c_28b4_11e9_9906_0242ac1c0002row0_col5 {\n",
              "            background-color:  #056dac;\n",
              "        }    #T_f2e8497c_28b4_11e9_9906_0242ac1c0002row0_col6 {\n",
              "            background-color:  #2182b9;\n",
              "        }    #T_f2e8497c_28b4_11e9_9906_0242ac1c0002row0_col7 {\n",
              "            background-color:  #3f93c2;\n",
              "        }    #T_f2e8497c_28b4_11e9_9906_0242ac1c0002row0_col8 {\n",
              "            background-color:  #7eadd1;\n",
              "        }    #T_f2e8497c_28b4_11e9_9906_0242ac1c0002row0_col9 {\n",
              "            background-color:  #a4bcda;\n",
              "        }    #T_f2e8497c_28b4_11e9_9906_0242ac1c0002row0_col10 {\n",
              "            background-color:  #d0d1e6;\n",
              "        }    #T_f2e8497c_28b4_11e9_9906_0242ac1c0002row0_col11 {\n",
              "            background-color:  #f5eff6;\n",
              "        }    #T_f2e8497c_28b4_11e9_9906_0242ac1c0002row0_col12 {\n",
              "            background-color:  #fff7fb;\n",
              "        }    #T_f2e8497c_28b4_11e9_9906_0242ac1c0002row1_col0 {\n",
              "            background-color:  #034369;\n",
              "        }    #T_f2e8497c_28b4_11e9_9906_0242ac1c0002row1_col1 {\n",
              "            background-color:  #023858;\n",
              "        }    #T_f2e8497c_28b4_11e9_9906_0242ac1c0002row1_col2 {\n",
              "            background-color:  #03446a;\n",
              "        }    #T_f2e8497c_28b4_11e9_9906_0242ac1c0002row1_col3 {\n",
              "            background-color:  #034e7b;\n",
              "        }    #T_f2e8497c_28b4_11e9_9906_0242ac1c0002row1_col4 {\n",
              "            background-color:  #045483;\n",
              "        }    #T_f2e8497c_28b4_11e9_9906_0242ac1c0002row1_col5 {\n",
              "            background-color:  #04629a;\n",
              "        }    #T_f2e8497c_28b4_11e9_9906_0242ac1c0002row1_col6 {\n",
              "            background-color:  #0c74b2;\n",
              "        }    #T_f2e8497c_28b4_11e9_9906_0242ac1c0002row1_col7 {\n",
              "            background-color:  #2786bb;\n",
              "        }    #T_f2e8497c_28b4_11e9_9906_0242ac1c0002row1_col8 {\n",
              "            background-color:  #5ea0ca;\n",
              "        }    #T_f2e8497c_28b4_11e9_9906_0242ac1c0002row1_col9 {\n",
              "            background-color:  #83afd3;\n",
              "        }    #T_f2e8497c_28b4_11e9_9906_0242ac1c0002row1_col10 {\n",
              "            background-color:  #adc1dd;\n",
              "        }    #T_f2e8497c_28b4_11e9_9906_0242ac1c0002row1_col11 {\n",
              "            background-color:  #dcdaeb;\n",
              "        }    #T_f2e8497c_28b4_11e9_9906_0242ac1c0002row1_col12 {\n",
              "            background-color:  #f7f0f7;\n",
              "        }    #T_f2e8497c_28b4_11e9_9906_0242ac1c0002row2_col0 {\n",
              "            background-color:  #045585;\n",
              "        }    #T_f2e8497c_28b4_11e9_9906_0242ac1c0002row2_col1 {\n",
              "            background-color:  #03446a;\n",
              "        }    #T_f2e8497c_28b4_11e9_9906_0242ac1c0002row2_col2 {\n",
              "            background-color:  #023858;\n",
              "        }    #T_f2e8497c_28b4_11e9_9906_0242ac1c0002row2_col3 {\n",
              "            background-color:  #023d60;\n",
              "        }    #T_f2e8497c_28b4_11e9_9906_0242ac1c0002row2_col4 {\n",
              "            background-color:  #034267;\n",
              "        }    #T_f2e8497c_28b4_11e9_9906_0242ac1c0002row2_col5 {\n",
              "            background-color:  #045788;\n",
              "        }    #T_f2e8497c_28b4_11e9_9906_0242ac1c0002row2_col6 {\n",
              "            background-color:  #0569a5;\n",
              "        }    #T_f2e8497c_28b4_11e9_9906_0242ac1c0002row2_col7 {\n",
              "            background-color:  #1b7eb7;\n",
              "        }    #T_f2e8497c_28b4_11e9_9906_0242ac1c0002row2_col8 {\n",
              "            background-color:  #569dc8;\n",
              "        }    #T_f2e8497c_28b4_11e9_9906_0242ac1c0002row2_col9 {\n",
              "            background-color:  #83afd3;\n",
              "        }    #T_f2e8497c_28b4_11e9_9906_0242ac1c0002row2_col10 {\n",
              "            background-color:  #b3c3de;\n",
              "        }    #T_f2e8497c_28b4_11e9_9906_0242ac1c0002row2_col11 {\n",
              "            background-color:  #dedcec;\n",
              "        }    #T_f2e8497c_28b4_11e9_9906_0242ac1c0002row2_col12 {\n",
              "            background-color:  #f8f1f8;\n",
              "        }    #T_f2e8497c_28b4_11e9_9906_0242ac1c0002row3_col0 {\n",
              "            background-color:  #045e94;\n",
              "        }    #T_f2e8497c_28b4_11e9_9906_0242ac1c0002row3_col1 {\n",
              "            background-color:  #034e7b;\n",
              "        }    #T_f2e8497c_28b4_11e9_9906_0242ac1c0002row3_col2 {\n",
              "            background-color:  #023d60;\n",
              "        }    #T_f2e8497c_28b4_11e9_9906_0242ac1c0002row3_col3 {\n",
              "            background-color:  #023858;\n",
              "        }    #T_f2e8497c_28b4_11e9_9906_0242ac1c0002row3_col4 {\n",
              "            background-color:  #023b5d;\n",
              "        }    #T_f2e8497c_28b4_11e9_9906_0242ac1c0002row3_col5 {\n",
              "            background-color:  #045280;\n",
              "        }    #T_f2e8497c_28b4_11e9_9906_0242ac1c0002row3_col6 {\n",
              "            background-color:  #0567a1;\n",
              "        }    #T_f2e8497c_28b4_11e9_9906_0242ac1c0002row3_col7 {\n",
              "            background-color:  #167bb6;\n",
              "        }    #T_f2e8497c_28b4_11e9_9906_0242ac1c0002row3_col8 {\n",
              "            background-color:  #569dc8;\n",
              "        }    #T_f2e8497c_28b4_11e9_9906_0242ac1c0002row3_col9 {\n",
              "            background-color:  #84b0d3;\n",
              "        }    #T_f2e8497c_28b4_11e9_9906_0242ac1c0002row3_col10 {\n",
              "            background-color:  #b7c5df;\n",
              "        }    #T_f2e8497c_28b4_11e9_9906_0242ac1c0002row3_col11 {\n",
              "            background-color:  #e3e0ee;\n",
              "        }    #T_f2e8497c_28b4_11e9_9906_0242ac1c0002row3_col12 {\n",
              "            background-color:  #faf2f8;\n",
              "        }    #T_f2e8497c_28b4_11e9_9906_0242ac1c0002row4_col0 {\n",
              "            background-color:  #046198;\n",
              "        }    #T_f2e8497c_28b4_11e9_9906_0242ac1c0002row4_col1 {\n",
              "            background-color:  #045483;\n",
              "        }    #T_f2e8497c_28b4_11e9_9906_0242ac1c0002row4_col2 {\n",
              "            background-color:  #034267;\n",
              "        }    #T_f2e8497c_28b4_11e9_9906_0242ac1c0002row4_col3 {\n",
              "            background-color:  #023b5d;\n",
              "        }    #T_f2e8497c_28b4_11e9_9906_0242ac1c0002row4_col4 {\n",
              "            background-color:  #023858;\n",
              "        }    #T_f2e8497c_28b4_11e9_9906_0242ac1c0002row4_col5 {\n",
              "            background-color:  #03456c;\n",
              "        }    #T_f2e8497c_28b4_11e9_9906_0242ac1c0002row4_col6 {\n",
              "            background-color:  #045e93;\n",
              "        }    #T_f2e8497c_28b4_11e9_9906_0242ac1c0002row4_col7 {\n",
              "            background-color:  #056faf;\n",
              "        }    #T_f2e8497c_28b4_11e9_9906_0242ac1c0002row4_col8 {\n",
              "            background-color:  #4496c3;\n",
              "        }    #T_f2e8497c_28b4_11e9_9906_0242ac1c0002row4_col9 {\n",
              "            background-color:  #78abd0;\n",
              "        }    #T_f2e8497c_28b4_11e9_9906_0242ac1c0002row4_col10 {\n",
              "            background-color:  #adc1dd;\n",
              "        }    #T_f2e8497c_28b4_11e9_9906_0242ac1c0002row4_col11 {\n",
              "            background-color:  #e0dded;\n",
              "        }    #T_f2e8497c_28b4_11e9_9906_0242ac1c0002row4_col12 {\n",
              "            background-color:  #faf3f9;\n",
              "        }    #T_f2e8497c_28b4_11e9_9906_0242ac1c0002row5_col0 {\n",
              "            background-color:  #056ba9;\n",
              "        }    #T_f2e8497c_28b4_11e9_9906_0242ac1c0002row5_col1 {\n",
              "            background-color:  #04639b;\n",
              "        }    #T_f2e8497c_28b4_11e9_9906_0242ac1c0002row5_col2 {\n",
              "            background-color:  #045788;\n",
              "        }    #T_f2e8497c_28b4_11e9_9906_0242ac1c0002row5_col3 {\n",
              "            background-color:  #045280;\n",
              "        }    #T_f2e8497c_28b4_11e9_9906_0242ac1c0002row5_col4 {\n",
              "            background-color:  #03456c;\n",
              "        }    #T_f2e8497c_28b4_11e9_9906_0242ac1c0002row5_col5 {\n",
              "            background-color:  #023858;\n",
              "        }    #T_f2e8497c_28b4_11e9_9906_0242ac1c0002row5_col6 {\n",
              "            background-color:  #03466e;\n",
              "        }    #T_f2e8497c_28b4_11e9_9906_0242ac1c0002row5_col7 {\n",
              "            background-color:  #045f95;\n",
              "        }    #T_f2e8497c_28b4_11e9_9906_0242ac1c0002row5_col8 {\n",
              "            background-color:  #2081b9;\n",
              "        }    #T_f2e8497c_28b4_11e9_9906_0242ac1c0002row5_col9 {\n",
              "            background-color:  #549cc7;\n",
              "        }    #T_f2e8497c_28b4_11e9_9906_0242ac1c0002row5_col10 {\n",
              "            background-color:  #91b5d6;\n",
              "        }    #T_f2e8497c_28b4_11e9_9906_0242ac1c0002row5_col11 {\n",
              "            background-color:  #d2d3e7;\n",
              "        }    #T_f2e8497c_28b4_11e9_9906_0242ac1c0002row5_col12 {\n",
              "            background-color:  #f9f2f8;\n",
              "        }    #T_f2e8497c_28b4_11e9_9906_0242ac1c0002row6_col0 {\n",
              "            background-color:  #187cb6;\n",
              "        }    #T_f2e8497c_28b4_11e9_9906_0242ac1c0002row6_col1 {\n",
              "            background-color:  #0a73b2;\n",
              "        }    #T_f2e8497c_28b4_11e9_9906_0242ac1c0002row6_col2 {\n",
              "            background-color:  #0569a4;\n",
              "        }    #T_f2e8497c_28b4_11e9_9906_0242ac1c0002row6_col3 {\n",
              "            background-color:  #0566a0;\n",
              "        }    #T_f2e8497c_28b4_11e9_9906_0242ac1c0002row6_col4 {\n",
              "            background-color:  #045d92;\n",
              "        }    #T_f2e8497c_28b4_11e9_9906_0242ac1c0002row6_col5 {\n",
              "            background-color:  #03466e;\n",
              "        }    #T_f2e8497c_28b4_11e9_9906_0242ac1c0002row6_col6 {\n",
              "            background-color:  #023858;\n",
              "        }    #T_f2e8497c_28b4_11e9_9906_0242ac1c0002row6_col7 {\n",
              "            background-color:  #03476f;\n",
              "        }    #T_f2e8497c_28b4_11e9_9906_0242ac1c0002row6_col8 {\n",
              "            background-color:  #0568a3;\n",
              "        }    #T_f2e8497c_28b4_11e9_9906_0242ac1c0002row6_col9 {\n",
              "            background-color:  #2081b9;\n",
              "        }    #T_f2e8497c_28b4_11e9_9906_0242ac1c0002row6_col10 {\n",
              "            background-color:  #5ea0ca;\n",
              "        }    #T_f2e8497c_28b4_11e9_9906_0242ac1c0002row6_col11 {\n",
              "            background-color:  #adc1dd;\n",
              "        }    #T_f2e8497c_28b4_11e9_9906_0242ac1c0002row6_col12 {\n",
              "            background-color:  #f5eef6;\n",
              "        }    #T_f2e8497c_28b4_11e9_9906_0242ac1c0002row7_col0 {\n",
              "            background-color:  #2a88bc;\n",
              "        }    #T_f2e8497c_28b4_11e9_9906_0242ac1c0002row7_col1 {\n",
              "            background-color:  #1e80b8;\n",
              "        }    #T_f2e8497c_28b4_11e9_9906_0242ac1c0002row7_col2 {\n",
              "            background-color:  #1077b4;\n",
              "        }    #T_f2e8497c_28b4_11e9_9906_0242ac1c0002row7_col3 {\n",
              "            background-color:  #0c74b2;\n",
              "        }    #T_f2e8497c_28b4_11e9_9906_0242ac1c0002row7_col4 {\n",
              "            background-color:  #056caa;\n",
              "        }    #T_f2e8497c_28b4_11e9_9906_0242ac1c0002row7_col5 {\n",
              "            background-color:  #045d92;\n",
              "        }    #T_f2e8497c_28b4_11e9_9906_0242ac1c0002row7_col6 {\n",
              "            background-color:  #03466e;\n",
              "        }    #T_f2e8497c_28b4_11e9_9906_0242ac1c0002row7_col7 {\n",
              "            background-color:  #023858;\n",
              "        }    #T_f2e8497c_28b4_11e9_9906_0242ac1c0002row7_col8 {\n",
              "            background-color:  #034b76;\n",
              "        }    #T_f2e8497c_28b4_11e9_9906_0242ac1c0002row7_col9 {\n",
              "            background-color:  #046096;\n",
              "        }    #T_f2e8497c_28b4_11e9_9906_0242ac1c0002row7_col10 {\n",
              "            background-color:  #0d75b3;\n",
              "        }    #T_f2e8497c_28b4_11e9_9906_0242ac1c0002row7_col11 {\n",
              "            background-color:  #5c9fc9;\n",
              "        }    #T_f2e8497c_28b4_11e9_9906_0242ac1c0002row7_col12 {\n",
              "            background-color:  #ede7f2;\n",
              "        }    #T_f2e8497c_28b4_11e9_9906_0242ac1c0002row8_col0 {\n",
              "            background-color:  #4a98c5;\n",
              "        }    #T_f2e8497c_28b4_11e9_9906_0242ac1c0002row8_col1 {\n",
              "            background-color:  #3991c1;\n",
              "        }    #T_f2e8497c_28b4_11e9_9906_0242ac1c0002row8_col2 {\n",
              "            background-color:  #348ebf;\n",
              "        }    #T_f2e8497c_28b4_11e9_9906_0242ac1c0002row8_col3 {\n",
              "            background-color:  #328dbf;\n",
              "        }    #T_f2e8497c_28b4_11e9_9906_0242ac1c0002row8_col4 {\n",
              "            background-color:  #2685bb;\n",
              "        }    #T_f2e8497c_28b4_11e9_9906_0242ac1c0002row8_col5 {\n",
              "            background-color:  #0a73b2;\n",
              "        }    #T_f2e8497c_28b4_11e9_9906_0242ac1c0002row8_col6 {\n",
              "            background-color:  #04629a;\n",
              "        }    #T_f2e8497c_28b4_11e9_9906_0242ac1c0002row8_col7 {\n",
              "            background-color:  #034973;\n",
              "        }    #T_f2e8497c_28b4_11e9_9906_0242ac1c0002row8_col8 {\n",
              "            background-color:  #023858;\n",
              "        }    #T_f2e8497c_28b4_11e9_9906_0242ac1c0002row8_col9 {\n",
              "            background-color:  #023e62;\n",
              "        }    #T_f2e8497c_28b4_11e9_9906_0242ac1c0002row8_col10 {\n",
              "            background-color:  #03517e;\n",
              "        }    #T_f2e8497c_28b4_11e9_9906_0242ac1c0002row8_col11 {\n",
              "            background-color:  #056dab;\n",
              "        }    #T_f2e8497c_28b4_11e9_9906_0242ac1c0002row8_col12 {\n",
              "            background-color:  #dbdaeb;\n",
              "        }    #T_f2e8497c_28b4_11e9_9906_0242ac1c0002row9_col0 {\n",
              "            background-color:  #60a1ca;\n",
              "        }    #T_f2e8497c_28b4_11e9_9906_0242ac1c0002row9_col1 {\n",
              "            background-color:  #4c99c5;\n",
              "        }    #T_f2e8497c_28b4_11e9_9906_0242ac1c0002row9_col2 {\n",
              "            background-color:  #4a98c5;\n",
              "        }    #T_f2e8497c_28b4_11e9_9906_0242ac1c0002row9_col3 {\n",
              "            background-color:  #4a98c5;\n",
              "        }    #T_f2e8497c_28b4_11e9_9906_0242ac1c0002row9_col4 {\n",
              "            background-color:  #3d93c2;\n",
              "        }    #T_f2e8497c_28b4_11e9_9906_0242ac1c0002row9_col5 {\n",
              "            background-color:  #2685bb;\n",
              "        }    #T_f2e8497c_28b4_11e9_9906_0242ac1c0002row9_col6 {\n",
              "            background-color:  #0570b0;\n",
              "        }    #T_f2e8497c_28b4_11e9_9906_0242ac1c0002row9_col7 {\n",
              "            background-color:  #045b8e;\n",
              "        }    #T_f2e8497c_28b4_11e9_9906_0242ac1c0002row9_col8 {\n",
              "            background-color:  #023d60;\n",
              "        }    #T_f2e8497c_28b4_11e9_9906_0242ac1c0002row9_col9 {\n",
              "            background-color:  #023858;\n",
              "        }    #T_f2e8497c_28b4_11e9_9906_0242ac1c0002row9_col10 {\n",
              "            background-color:  #023e62;\n",
              "        }    #T_f2e8497c_28b4_11e9_9906_0242ac1c0002row9_col11 {\n",
              "            background-color:  #04588a;\n",
              "        }    #T_f2e8497c_28b4_11e9_9906_0242ac1c0002row9_col12 {\n",
              "            background-color:  #cccfe5;\n",
              "        }    #T_f2e8497c_28b4_11e9_9906_0242ac1c0002row10_col0 {\n",
              "            background-color:  #75a9cf;\n",
              "        }    #T_f2e8497c_28b4_11e9_9906_0242ac1c0002row10_col1 {\n",
              "            background-color:  #60a1ca;\n",
              "        }    #T_f2e8497c_28b4_11e9_9906_0242ac1c0002row10_col2 {\n",
              "            background-color:  #63a2cb;\n",
              "        }    #T_f2e8497c_28b4_11e9_9906_0242ac1c0002row10_col3 {\n",
              "            background-color:  #65a3cb;\n",
              "        }    #T_f2e8497c_28b4_11e9_9906_0242ac1c0002row10_col4 {\n",
              "            background-color:  #5a9ec9;\n",
              "        }    #T_f2e8497c_28b4_11e9_9906_0242ac1c0002row10_col5 {\n",
              "            background-color:  #4295c3;\n",
              "        }    #T_f2e8497c_28b4_11e9_9906_0242ac1c0002row10_col6 {\n",
              "            background-color:  #2383ba;\n",
              "        }    #T_f2e8497c_28b4_11e9_9906_0242ac1c0002row10_col7 {\n",
              "            background-color:  #0569a4;\n",
              "        }    #T_f2e8497c_28b4_11e9_9906_0242ac1c0002row10_col8 {\n",
              "            background-color:  #034c78;\n",
              "        }    #T_f2e8497c_28b4_11e9_9906_0242ac1c0002row10_col9 {\n",
              "            background-color:  #023d60;\n",
              "        }    #T_f2e8497c_28b4_11e9_9906_0242ac1c0002row10_col10 {\n",
              "            background-color:  #023858;\n",
              "        }    #T_f2e8497c_28b4_11e9_9906_0242ac1c0002row10_col11 {\n",
              "            background-color:  #03446a;\n",
              "        }    #T_f2e8497c_28b4_11e9_9906_0242ac1c0002row10_col12 {\n",
              "            background-color:  #b5c4df;\n",
              "        }    #T_f2e8497c_28b4_11e9_9906_0242ac1c0002row11_col0 {\n",
              "            background-color:  #89b1d4;\n",
              "        }    #T_f2e8497c_28b4_11e9_9906_0242ac1c0002row11_col1 {\n",
              "            background-color:  #75a9cf;\n",
              "        }    #T_f2e8497c_28b4_11e9_9906_0242ac1c0002row11_col2 {\n",
              "            background-color:  #76aad0;\n",
              "        }    #T_f2e8497c_28b4_11e9_9906_0242ac1c0002row11_col3 {\n",
              "            background-color:  #79abd0;\n",
              "        }    #T_f2e8497c_28b4_11e9_9906_0242ac1c0002row11_col4 {\n",
              "            background-color:  #75a9cf;\n",
              "        }    #T_f2e8497c_28b4_11e9_9906_0242ac1c0002row11_col5 {\n",
              "            background-color:  #63a2cb;\n",
              "        }    #T_f2e8497c_28b4_11e9_9906_0242ac1c0002row11_col6 {\n",
              "            background-color:  #4897c4;\n",
              "        }    #T_f2e8497c_28b4_11e9_9906_0242ac1c0002row11_col7 {\n",
              "            background-color:  #1b7eb7;\n",
              "        }    #T_f2e8497c_28b4_11e9_9906_0242ac1c0002row11_col8 {\n",
              "            background-color:  #046299;\n",
              "        }    #T_f2e8497c_28b4_11e9_9906_0242ac1c0002row11_col9 {\n",
              "            background-color:  #045280;\n",
              "        }    #T_f2e8497c_28b4_11e9_9906_0242ac1c0002row11_col10 {\n",
              "            background-color:  #034267;\n",
              "        }    #T_f2e8497c_28b4_11e9_9906_0242ac1c0002row11_col11 {\n",
              "            background-color:  #023858;\n",
              "        }    #T_f2e8497c_28b4_11e9_9906_0242ac1c0002row11_col12 {\n",
              "            background-color:  #99b8d8;\n",
              "        }    #T_f2e8497c_28b4_11e9_9906_0242ac1c0002row12_col0 {\n",
              "            background-color:  #fff7fb;\n",
              "        }    #T_f2e8497c_28b4_11e9_9906_0242ac1c0002row12_col1 {\n",
              "            background-color:  #fff7fb;\n",
              "        }    #T_f2e8497c_28b4_11e9_9906_0242ac1c0002row12_col2 {\n",
              "            background-color:  #fff7fb;\n",
              "        }    #T_f2e8497c_28b4_11e9_9906_0242ac1c0002row12_col3 {\n",
              "            background-color:  #fff7fb;\n",
              "        }    #T_f2e8497c_28b4_11e9_9906_0242ac1c0002row12_col4 {\n",
              "            background-color:  #fff7fb;\n",
              "        }    #T_f2e8497c_28b4_11e9_9906_0242ac1c0002row12_col5 {\n",
              "            background-color:  #fff7fb;\n",
              "        }    #T_f2e8497c_28b4_11e9_9906_0242ac1c0002row12_col6 {\n",
              "            background-color:  #fff7fb;\n",
              "        }    #T_f2e8497c_28b4_11e9_9906_0242ac1c0002row12_col7 {\n",
              "            background-color:  #fff7fb;\n",
              "        }    #T_f2e8497c_28b4_11e9_9906_0242ac1c0002row12_col8 {\n",
              "            background-color:  #fff7fb;\n",
              "        }    #T_f2e8497c_28b4_11e9_9906_0242ac1c0002row12_col9 {\n",
              "            background-color:  #fff7fb;\n",
              "        }    #T_f2e8497c_28b4_11e9_9906_0242ac1c0002row12_col10 {\n",
              "            background-color:  #fff7fb;\n",
              "        }    #T_f2e8497c_28b4_11e9_9906_0242ac1c0002row12_col11 {\n",
              "            background-color:  #fff7fb;\n",
              "        }    #T_f2e8497c_28b4_11e9_9906_0242ac1c0002row12_col12 {\n",
              "            background-color:  #023858;\n",
              "        }</style>  \n",
              "<table id=\"T_f2e8497c_28b4_11e9_9906_0242ac1c0002\" > \n",
              "<thead>    <tr> \n",
              "        <th class=\"blank level0\" ></th> \n",
              "        <th class=\"col_heading level0 col0\" >Q0</th> \n",
              "        <th class=\"col_heading level0 col1\" >Q1</th> \n",
              "        <th class=\"col_heading level0 col2\" >Q2pt5</th> \n",
              "        <th class=\"col_heading level0 col3\" >Q5</th> \n",
              "        <th class=\"col_heading level0 col4\" >Q10</th> \n",
              "        <th class=\"col_heading level0 col5\" >Q25</th> \n",
              "        <th class=\"col_heading level0 col6\" >Q50</th> \n",
              "        <th class=\"col_heading level0 col7\" >Q75</th> \n",
              "        <th class=\"col_heading level0 col8\" >Q90</th> \n",
              "        <th class=\"col_heading level0 col9\" >Q95</th> \n",
              "        <th class=\"col_heading level0 col10\" >Q97pt5</th> \n",
              "        <th class=\"col_heading level0 col11\" >Q99</th> \n",
              "        <th class=\"col_heading level0 col12\" >Q100</th> \n",
              "    </tr></thead> \n",
              "<tbody>    <tr> \n",
              "        <th id=\"T_f2e8497c_28b4_11e9_9906_0242ac1c0002level0_row0\" class=\"row_heading level0 row0\" >Q0</th> \n",
              "        <td id=\"T_f2e8497c_28b4_11e9_9906_0242ac1c0002row0_col0\" class=\"data row0 col0\" >1</td> \n",
              "        <td id=\"T_f2e8497c_28b4_11e9_9906_0242ac1c0002row0_col1\" class=\"data row0 col1\" >0.97</td> \n",
              "        <td id=\"T_f2e8497c_28b4_11e9_9906_0242ac1c0002row0_col2\" class=\"data row0 col2\" >0.91</td> \n",
              "        <td id=\"T_f2e8497c_28b4_11e9_9906_0242ac1c0002row0_col3\" class=\"data row0 col3\" >0.87</td> \n",
              "        <td id=\"T_f2e8497c_28b4_11e9_9906_0242ac1c0002row0_col4\" class=\"data row0 col4\" >0.86</td> \n",
              "        <td id=\"T_f2e8497c_28b4_11e9_9906_0242ac1c0002row0_col5\" class=\"data row0 col5\" >0.81</td> \n",
              "        <td id=\"T_f2e8497c_28b4_11e9_9906_0242ac1c0002row0_col6\" class=\"data row0 col6\" >0.75</td> \n",
              "        <td id=\"T_f2e8497c_28b4_11e9_9906_0242ac1c0002row0_col7\" class=\"data row0 col7\" >0.71</td> \n",
              "        <td id=\"T_f2e8497c_28b4_11e9_9906_0242ac1c0002row0_col8\" class=\"data row0 col8\" >0.65</td> \n",
              "        <td id=\"T_f2e8497c_28b4_11e9_9906_0242ac1c0002row0_col9\" class=\"data row0 col9\" >0.61</td> \n",
              "        <td id=\"T_f2e8497c_28b4_11e9_9906_0242ac1c0002row0_col10\" class=\"data row0 col10\" >0.58</td> \n",
              "        <td id=\"T_f2e8497c_28b4_11e9_9906_0242ac1c0002row0_col11\" class=\"data row0 col11\" >0.53</td> \n",
              "        <td id=\"T_f2e8497c_28b4_11e9_9906_0242ac1c0002row0_col12\" class=\"data row0 col12\" >0.16</td> \n",
              "    </tr>    <tr> \n",
              "        <th id=\"T_f2e8497c_28b4_11e9_9906_0242ac1c0002level0_row1\" class=\"row_heading level0 row1\" >Q1</th> \n",
              "        <td id=\"T_f2e8497c_28b4_11e9_9906_0242ac1c0002row1_col0\" class=\"data row1 col0\" >0.97</td> \n",
              "        <td id=\"T_f2e8497c_28b4_11e9_9906_0242ac1c0002row1_col1\" class=\"data row1 col1\" >1</td> \n",
              "        <td id=\"T_f2e8497c_28b4_11e9_9906_0242ac1c0002row1_col2\" class=\"data row1 col2\" >0.96</td> \n",
              "        <td id=\"T_f2e8497c_28b4_11e9_9906_0242ac1c0002row1_col3\" class=\"data row1 col3\" >0.93</td> \n",
              "        <td id=\"T_f2e8497c_28b4_11e9_9906_0242ac1c0002row1_col4\" class=\"data row1 col4\" >0.92</td> \n",
              "        <td id=\"T_f2e8497c_28b4_11e9_9906_0242ac1c0002row1_col5\" class=\"data row1 col5\" >0.86</td> \n",
              "        <td id=\"T_f2e8497c_28b4_11e9_9906_0242ac1c0002row1_col6\" class=\"data row1 col6\" >0.79</td> \n",
              "        <td id=\"T_f2e8497c_28b4_11e9_9906_0242ac1c0002row1_col7\" class=\"data row1 col7\" >0.75</td> \n",
              "        <td id=\"T_f2e8497c_28b4_11e9_9906_0242ac1c0002row1_col8\" class=\"data row1 col8\" >0.7</td> \n",
              "        <td id=\"T_f2e8497c_28b4_11e9_9906_0242ac1c0002row1_col9\" class=\"data row1 col9\" >0.67</td> \n",
              "        <td id=\"T_f2e8497c_28b4_11e9_9906_0242ac1c0002row1_col10\" class=\"data row1 col10\" >0.63</td> \n",
              "        <td id=\"T_f2e8497c_28b4_11e9_9906_0242ac1c0002row1_col11\" class=\"data row1 col11\" >0.6</td> \n",
              "        <td id=\"T_f2e8497c_28b4_11e9_9906_0242ac1c0002row1_col12\" class=\"data row1 col12\" >0.2</td> \n",
              "    </tr>    <tr> \n",
              "        <th id=\"T_f2e8497c_28b4_11e9_9906_0242ac1c0002level0_row2\" class=\"row_heading level0 row2\" >Q2pt5</th> \n",
              "        <td id=\"T_f2e8497c_28b4_11e9_9906_0242ac1c0002row2_col0\" class=\"data row2 col0\" >0.91</td> \n",
              "        <td id=\"T_f2e8497c_28b4_11e9_9906_0242ac1c0002row2_col1\" class=\"data row2 col1\" >0.96</td> \n",
              "        <td id=\"T_f2e8497c_28b4_11e9_9906_0242ac1c0002row2_col2\" class=\"data row2 col2\" >1</td> \n",
              "        <td id=\"T_f2e8497c_28b4_11e9_9906_0242ac1c0002row2_col3\" class=\"data row2 col3\" >0.98</td> \n",
              "        <td id=\"T_f2e8497c_28b4_11e9_9906_0242ac1c0002row2_col4\" class=\"data row2 col4\" >0.97</td> \n",
              "        <td id=\"T_f2e8497c_28b4_11e9_9906_0242ac1c0002row2_col5\" class=\"data row2 col5\" >0.91</td> \n",
              "        <td id=\"T_f2e8497c_28b4_11e9_9906_0242ac1c0002row2_col6\" class=\"data row2 col6\" >0.83</td> \n",
              "        <td id=\"T_f2e8497c_28b4_11e9_9906_0242ac1c0002row2_col7\" class=\"data row2 col7\" >0.77</td> \n",
              "        <td id=\"T_f2e8497c_28b4_11e9_9906_0242ac1c0002row2_col8\" class=\"data row2 col8\" >0.7</td> \n",
              "        <td id=\"T_f2e8497c_28b4_11e9_9906_0242ac1c0002row2_col9\" class=\"data row2 col9\" >0.67</td> \n",
              "        <td id=\"T_f2e8497c_28b4_11e9_9906_0242ac1c0002row2_col10\" class=\"data row2 col10\" >0.63</td> \n",
              "        <td id=\"T_f2e8497c_28b4_11e9_9906_0242ac1c0002row2_col11\" class=\"data row2 col11\" >0.59</td> \n",
              "        <td id=\"T_f2e8497c_28b4_11e9_9906_0242ac1c0002row2_col12\" class=\"data row2 col12\" >0.2</td> \n",
              "    </tr>    <tr> \n",
              "        <th id=\"T_f2e8497c_28b4_11e9_9906_0242ac1c0002level0_row3\" class=\"row_heading level0 row3\" >Q5</th> \n",
              "        <td id=\"T_f2e8497c_28b4_11e9_9906_0242ac1c0002row3_col0\" class=\"data row3 col0\" >0.87</td> \n",
              "        <td id=\"T_f2e8497c_28b4_11e9_9906_0242ac1c0002row3_col1\" class=\"data row3 col1\" >0.93</td> \n",
              "        <td id=\"T_f2e8497c_28b4_11e9_9906_0242ac1c0002row3_col2\" class=\"data row3 col2\" >0.98</td> \n",
              "        <td id=\"T_f2e8497c_28b4_11e9_9906_0242ac1c0002row3_col3\" class=\"data row3 col3\" >1</td> \n",
              "        <td id=\"T_f2e8497c_28b4_11e9_9906_0242ac1c0002row3_col4\" class=\"data row3 col4\" >0.99</td> \n",
              "        <td id=\"T_f2e8497c_28b4_11e9_9906_0242ac1c0002row3_col5\" class=\"data row3 col5\" >0.92</td> \n",
              "        <td id=\"T_f2e8497c_28b4_11e9_9906_0242ac1c0002row3_col6\" class=\"data row3 col6\" >0.84</td> \n",
              "        <td id=\"T_f2e8497c_28b4_11e9_9906_0242ac1c0002row3_col7\" class=\"data row3 col7\" >0.78</td> \n",
              "        <td id=\"T_f2e8497c_28b4_11e9_9906_0242ac1c0002row3_col8\" class=\"data row3 col8\" >0.7</td> \n",
              "        <td id=\"T_f2e8497c_28b4_11e9_9906_0242ac1c0002row3_col9\" class=\"data row3 col9\" >0.66</td> \n",
              "        <td id=\"T_f2e8497c_28b4_11e9_9906_0242ac1c0002row3_col10\" class=\"data row3 col10\" >0.62</td> \n",
              "        <td id=\"T_f2e8497c_28b4_11e9_9906_0242ac1c0002row3_col11\" class=\"data row3 col11\" >0.58</td> \n",
              "        <td id=\"T_f2e8497c_28b4_11e9_9906_0242ac1c0002row3_col12\" class=\"data row3 col12\" >0.19</td> \n",
              "    </tr>    <tr> \n",
              "        <th id=\"T_f2e8497c_28b4_11e9_9906_0242ac1c0002level0_row4\" class=\"row_heading level0 row4\" >Q10</th> \n",
              "        <td id=\"T_f2e8497c_28b4_11e9_9906_0242ac1c0002row4_col0\" class=\"data row4 col0\" >0.86</td> \n",
              "        <td id=\"T_f2e8497c_28b4_11e9_9906_0242ac1c0002row4_col1\" class=\"data row4 col1\" >0.92</td> \n",
              "        <td id=\"T_f2e8497c_28b4_11e9_9906_0242ac1c0002row4_col2\" class=\"data row4 col2\" >0.97</td> \n",
              "        <td id=\"T_f2e8497c_28b4_11e9_9906_0242ac1c0002row4_col3\" class=\"data row4 col3\" >0.99</td> \n",
              "        <td id=\"T_f2e8497c_28b4_11e9_9906_0242ac1c0002row4_col4\" class=\"data row4 col4\" >1</td> \n",
              "        <td id=\"T_f2e8497c_28b4_11e9_9906_0242ac1c0002row4_col5\" class=\"data row4 col5\" >0.96</td> \n",
              "        <td id=\"T_f2e8497c_28b4_11e9_9906_0242ac1c0002row4_col6\" class=\"data row4 col6\" >0.89</td> \n",
              "        <td id=\"T_f2e8497c_28b4_11e9_9906_0242ac1c0002row4_col7\" class=\"data row4 col7\" >0.82</td> \n",
              "        <td id=\"T_f2e8497c_28b4_11e9_9906_0242ac1c0002row4_col8\" class=\"data row4 col8\" >0.73</td> \n",
              "        <td id=\"T_f2e8497c_28b4_11e9_9906_0242ac1c0002row4_col9\" class=\"data row4 col9\" >0.68</td> \n",
              "        <td id=\"T_f2e8497c_28b4_11e9_9906_0242ac1c0002row4_col10\" class=\"data row4 col10\" >0.63</td> \n",
              "        <td id=\"T_f2e8497c_28b4_11e9_9906_0242ac1c0002row4_col11\" class=\"data row4 col11\" >0.59</td> \n",
              "        <td id=\"T_f2e8497c_28b4_11e9_9906_0242ac1c0002row4_col12\" class=\"data row4 col12\" >0.19</td> \n",
              "    </tr>    <tr> \n",
              "        <th id=\"T_f2e8497c_28b4_11e9_9906_0242ac1c0002level0_row5\" class=\"row_heading level0 row5\" >Q25</th> \n",
              "        <td id=\"T_f2e8497c_28b4_11e9_9906_0242ac1c0002row5_col0\" class=\"data row5 col0\" >0.81</td> \n",
              "        <td id=\"T_f2e8497c_28b4_11e9_9906_0242ac1c0002row5_col1\" class=\"data row5 col1\" >0.86</td> \n",
              "        <td id=\"T_f2e8497c_28b4_11e9_9906_0242ac1c0002row5_col2\" class=\"data row5 col2\" >0.91</td> \n",
              "        <td id=\"T_f2e8497c_28b4_11e9_9906_0242ac1c0002row5_col3\" class=\"data row5 col3\" >0.92</td> \n",
              "        <td id=\"T_f2e8497c_28b4_11e9_9906_0242ac1c0002row5_col4\" class=\"data row5 col4\" >0.96</td> \n",
              "        <td id=\"T_f2e8497c_28b4_11e9_9906_0242ac1c0002row5_col5\" class=\"data row5 col5\" >1</td> \n",
              "        <td id=\"T_f2e8497c_28b4_11e9_9906_0242ac1c0002row5_col6\" class=\"data row5 col6\" >0.96</td> \n",
              "        <td id=\"T_f2e8497c_28b4_11e9_9906_0242ac1c0002row5_col7\" class=\"data row5 col7\" >0.89</td> \n",
              "        <td id=\"T_f2e8497c_28b4_11e9_9906_0242ac1c0002row5_col8\" class=\"data row5 col8\" >0.79</td> \n",
              "        <td id=\"T_f2e8497c_28b4_11e9_9906_0242ac1c0002row5_col9\" class=\"data row5 col9\" >0.73</td> \n",
              "        <td id=\"T_f2e8497c_28b4_11e9_9906_0242ac1c0002row5_col10\" class=\"data row5 col10\" >0.68</td> \n",
              "        <td id=\"T_f2e8497c_28b4_11e9_9906_0242ac1c0002row5_col11\" class=\"data row5 col11\" >0.62</td> \n",
              "        <td id=\"T_f2e8497c_28b4_11e9_9906_0242ac1c0002row5_col12\" class=\"data row5 col12\" >0.19</td> \n",
              "    </tr>    <tr> \n",
              "        <th id=\"T_f2e8497c_28b4_11e9_9906_0242ac1c0002level0_row6\" class=\"row_heading level0 row6\" >Q50</th> \n",
              "        <td id=\"T_f2e8497c_28b4_11e9_9906_0242ac1c0002row6_col0\" class=\"data row6 col0\" >0.75</td> \n",
              "        <td id=\"T_f2e8497c_28b4_11e9_9906_0242ac1c0002row6_col1\" class=\"data row6 col1\" >0.79</td> \n",
              "        <td id=\"T_f2e8497c_28b4_11e9_9906_0242ac1c0002row6_col2\" class=\"data row6 col2\" >0.83</td> \n",
              "        <td id=\"T_f2e8497c_28b4_11e9_9906_0242ac1c0002row6_col3\" class=\"data row6 col3\" >0.84</td> \n",
              "        <td id=\"T_f2e8497c_28b4_11e9_9906_0242ac1c0002row6_col4\" class=\"data row6 col4\" >0.89</td> \n",
              "        <td id=\"T_f2e8497c_28b4_11e9_9906_0242ac1c0002row6_col5\" class=\"data row6 col5\" >0.96</td> \n",
              "        <td id=\"T_f2e8497c_28b4_11e9_9906_0242ac1c0002row6_col6\" class=\"data row6 col6\" >1</td> \n",
              "        <td id=\"T_f2e8497c_28b4_11e9_9906_0242ac1c0002row6_col7\" class=\"data row6 col7\" >0.96</td> \n",
              "        <td id=\"T_f2e8497c_28b4_11e9_9906_0242ac1c0002row6_col8\" class=\"data row6 col8\" >0.86</td> \n",
              "        <td id=\"T_f2e8497c_28b4_11e9_9906_0242ac1c0002row6_col9\" class=\"data row6 col9\" >0.8</td> \n",
              "        <td id=\"T_f2e8497c_28b4_11e9_9906_0242ac1c0002row6_col10\" class=\"data row6 col10\" >0.74</td> \n",
              "        <td id=\"T_f2e8497c_28b4_11e9_9906_0242ac1c0002row6_col11\" class=\"data row6 col11\" >0.68</td> \n",
              "        <td id=\"T_f2e8497c_28b4_11e9_9906_0242ac1c0002row6_col12\" class=\"data row6 col12\" >0.22</td> \n",
              "    </tr>    <tr> \n",
              "        <th id=\"T_f2e8497c_28b4_11e9_9906_0242ac1c0002level0_row7\" class=\"row_heading level0 row7\" >Q75</th> \n",
              "        <td id=\"T_f2e8497c_28b4_11e9_9906_0242ac1c0002row7_col0\" class=\"data row7 col0\" >0.71</td> \n",
              "        <td id=\"T_f2e8497c_28b4_11e9_9906_0242ac1c0002row7_col1\" class=\"data row7 col1\" >0.75</td> \n",
              "        <td id=\"T_f2e8497c_28b4_11e9_9906_0242ac1c0002row7_col2\" class=\"data row7 col2\" >0.77</td> \n",
              "        <td id=\"T_f2e8497c_28b4_11e9_9906_0242ac1c0002row7_col3\" class=\"data row7 col3\" >0.78</td> \n",
              "        <td id=\"T_f2e8497c_28b4_11e9_9906_0242ac1c0002row7_col4\" class=\"data row7 col4\" >0.82</td> \n",
              "        <td id=\"T_f2e8497c_28b4_11e9_9906_0242ac1c0002row7_col5\" class=\"data row7 col5\" >0.89</td> \n",
              "        <td id=\"T_f2e8497c_28b4_11e9_9906_0242ac1c0002row7_col6\" class=\"data row7 col6\" >0.96</td> \n",
              "        <td id=\"T_f2e8497c_28b4_11e9_9906_0242ac1c0002row7_col7\" class=\"data row7 col7\" >1</td> \n",
              "        <td id=\"T_f2e8497c_28b4_11e9_9906_0242ac1c0002row7_col8\" class=\"data row7 col8\" >0.95</td> \n",
              "        <td id=\"T_f2e8497c_28b4_11e9_9906_0242ac1c0002row7_col9\" class=\"data row7 col9\" >0.9</td> \n",
              "        <td id=\"T_f2e8497c_28b4_11e9_9906_0242ac1c0002row7_col10\" class=\"data row7 col10\" >0.85</td> \n",
              "        <td id=\"T_f2e8497c_28b4_11e9_9906_0242ac1c0002row7_col11\" class=\"data row7 col11\" >0.77</td> \n",
              "        <td id=\"T_f2e8497c_28b4_11e9_9906_0242ac1c0002row7_col12\" class=\"data row7 col12\" >0.26</td> \n",
              "    </tr>    <tr> \n",
              "        <th id=\"T_f2e8497c_28b4_11e9_9906_0242ac1c0002level0_row8\" class=\"row_heading level0 row8\" >Q90</th> \n",
              "        <td id=\"T_f2e8497c_28b4_11e9_9906_0242ac1c0002row8_col0\" class=\"data row8 col0\" >0.65</td> \n",
              "        <td id=\"T_f2e8497c_28b4_11e9_9906_0242ac1c0002row8_col1\" class=\"data row8 col1\" >0.7</td> \n",
              "        <td id=\"T_f2e8497c_28b4_11e9_9906_0242ac1c0002row8_col2\" class=\"data row8 col2\" >0.7</td> \n",
              "        <td id=\"T_f2e8497c_28b4_11e9_9906_0242ac1c0002row8_col3\" class=\"data row8 col3\" >0.7</td> \n",
              "        <td id=\"T_f2e8497c_28b4_11e9_9906_0242ac1c0002row8_col4\" class=\"data row8 col4\" >0.73</td> \n",
              "        <td id=\"T_f2e8497c_28b4_11e9_9906_0242ac1c0002row8_col5\" class=\"data row8 col5\" >0.79</td> \n",
              "        <td id=\"T_f2e8497c_28b4_11e9_9906_0242ac1c0002row8_col6\" class=\"data row8 col6\" >0.86</td> \n",
              "        <td id=\"T_f2e8497c_28b4_11e9_9906_0242ac1c0002row8_col7\" class=\"data row8 col7\" >0.95</td> \n",
              "        <td id=\"T_f2e8497c_28b4_11e9_9906_0242ac1c0002row8_col8\" class=\"data row8 col8\" >1</td> \n",
              "        <td id=\"T_f2e8497c_28b4_11e9_9906_0242ac1c0002row8_col9\" class=\"data row8 col9\" >0.98</td> \n",
              "        <td id=\"T_f2e8497c_28b4_11e9_9906_0242ac1c0002row8_col10\" class=\"data row8 col10\" >0.95</td> \n",
              "        <td id=\"T_f2e8497c_28b4_11e9_9906_0242ac1c0002row8_col11\" class=\"data row8 col11\" >0.88</td> \n",
              "        <td id=\"T_f2e8497c_28b4_11e9_9906_0242ac1c0002row8_col12\" class=\"data row8 col12\" >0.33</td> \n",
              "    </tr>    <tr> \n",
              "        <th id=\"T_f2e8497c_28b4_11e9_9906_0242ac1c0002level0_row9\" class=\"row_heading level0 row9\" >Q95</th> \n",
              "        <td id=\"T_f2e8497c_28b4_11e9_9906_0242ac1c0002row9_col0\" class=\"data row9 col0\" >0.61</td> \n",
              "        <td id=\"T_f2e8497c_28b4_11e9_9906_0242ac1c0002row9_col1\" class=\"data row9 col1\" >0.67</td> \n",
              "        <td id=\"T_f2e8497c_28b4_11e9_9906_0242ac1c0002row9_col2\" class=\"data row9 col2\" >0.67</td> \n",
              "        <td id=\"T_f2e8497c_28b4_11e9_9906_0242ac1c0002row9_col3\" class=\"data row9 col3\" >0.66</td> \n",
              "        <td id=\"T_f2e8497c_28b4_11e9_9906_0242ac1c0002row9_col4\" class=\"data row9 col4\" >0.68</td> \n",
              "        <td id=\"T_f2e8497c_28b4_11e9_9906_0242ac1c0002row9_col5\" class=\"data row9 col5\" >0.73</td> \n",
              "        <td id=\"T_f2e8497c_28b4_11e9_9906_0242ac1c0002row9_col6\" class=\"data row9 col6\" >0.8</td> \n",
              "        <td id=\"T_f2e8497c_28b4_11e9_9906_0242ac1c0002row9_col7\" class=\"data row9 col7\" >0.9</td> \n",
              "        <td id=\"T_f2e8497c_28b4_11e9_9906_0242ac1c0002row9_col8\" class=\"data row9 col8\" >0.98</td> \n",
              "        <td id=\"T_f2e8497c_28b4_11e9_9906_0242ac1c0002row9_col9\" class=\"data row9 col9\" >1</td> \n",
              "        <td id=\"T_f2e8497c_28b4_11e9_9906_0242ac1c0002row9_col10\" class=\"data row9 col10\" >0.99</td> \n",
              "        <td id=\"T_f2e8497c_28b4_11e9_9906_0242ac1c0002row9_col11\" class=\"data row9 col11\" >0.94</td> \n",
              "        <td id=\"T_f2e8497c_28b4_11e9_9906_0242ac1c0002row9_col12\" class=\"data row9 col12\" >0.38</td> \n",
              "    </tr>    <tr> \n",
              "        <th id=\"T_f2e8497c_28b4_11e9_9906_0242ac1c0002level0_row10\" class=\"row_heading level0 row10\" >Q97pt5</th> \n",
              "        <td id=\"T_f2e8497c_28b4_11e9_9906_0242ac1c0002row10_col0\" class=\"data row10 col0\" >0.58</td> \n",
              "        <td id=\"T_f2e8497c_28b4_11e9_9906_0242ac1c0002row10_col1\" class=\"data row10 col1\" >0.63</td> \n",
              "        <td id=\"T_f2e8497c_28b4_11e9_9906_0242ac1c0002row10_col2\" class=\"data row10 col2\" >0.63</td> \n",
              "        <td id=\"T_f2e8497c_28b4_11e9_9906_0242ac1c0002row10_col3\" class=\"data row10 col3\" >0.62</td> \n",
              "        <td id=\"T_f2e8497c_28b4_11e9_9906_0242ac1c0002row10_col4\" class=\"data row10 col4\" >0.63</td> \n",
              "        <td id=\"T_f2e8497c_28b4_11e9_9906_0242ac1c0002row10_col5\" class=\"data row10 col5\" >0.68</td> \n",
              "        <td id=\"T_f2e8497c_28b4_11e9_9906_0242ac1c0002row10_col6\" class=\"data row10 col6\" >0.74</td> \n",
              "        <td id=\"T_f2e8497c_28b4_11e9_9906_0242ac1c0002row10_col7\" class=\"data row10 col7\" >0.85</td> \n",
              "        <td id=\"T_f2e8497c_28b4_11e9_9906_0242ac1c0002row10_col8\" class=\"data row10 col8\" >0.95</td> \n",
              "        <td id=\"T_f2e8497c_28b4_11e9_9906_0242ac1c0002row10_col9\" class=\"data row10 col9\" >0.99</td> \n",
              "        <td id=\"T_f2e8497c_28b4_11e9_9906_0242ac1c0002row10_col10\" class=\"data row10 col10\" >1</td> \n",
              "        <td id=\"T_f2e8497c_28b4_11e9_9906_0242ac1c0002row10_col11\" class=\"data row10 col11\" >0.98</td> \n",
              "        <td id=\"T_f2e8497c_28b4_11e9_9906_0242ac1c0002row10_col12\" class=\"data row10 col12\" >0.43</td> \n",
              "    </tr>    <tr> \n",
              "        <th id=\"T_f2e8497c_28b4_11e9_9906_0242ac1c0002level0_row11\" class=\"row_heading level0 row11\" >Q99</th> \n",
              "        <td id=\"T_f2e8497c_28b4_11e9_9906_0242ac1c0002row11_col0\" class=\"data row11 col0\" >0.53</td> \n",
              "        <td id=\"T_f2e8497c_28b4_11e9_9906_0242ac1c0002row11_col1\" class=\"data row11 col1\" >0.6</td> \n",
              "        <td id=\"T_f2e8497c_28b4_11e9_9906_0242ac1c0002row11_col2\" class=\"data row11 col2\" >0.59</td> \n",
              "        <td id=\"T_f2e8497c_28b4_11e9_9906_0242ac1c0002row11_col3\" class=\"data row11 col3\" >0.58</td> \n",
              "        <td id=\"T_f2e8497c_28b4_11e9_9906_0242ac1c0002row11_col4\" class=\"data row11 col4\" >0.59</td> \n",
              "        <td id=\"T_f2e8497c_28b4_11e9_9906_0242ac1c0002row11_col5\" class=\"data row11 col5\" >0.62</td> \n",
              "        <td id=\"T_f2e8497c_28b4_11e9_9906_0242ac1c0002row11_col6\" class=\"data row11 col6\" >0.68</td> \n",
              "        <td id=\"T_f2e8497c_28b4_11e9_9906_0242ac1c0002row11_col7\" class=\"data row11 col7\" >0.77</td> \n",
              "        <td id=\"T_f2e8497c_28b4_11e9_9906_0242ac1c0002row11_col8\" class=\"data row11 col8\" >0.88</td> \n",
              "        <td id=\"T_f2e8497c_28b4_11e9_9906_0242ac1c0002row11_col9\" class=\"data row11 col9\" >0.94</td> \n",
              "        <td id=\"T_f2e8497c_28b4_11e9_9906_0242ac1c0002row11_col10\" class=\"data row11 col10\" >0.98</td> \n",
              "        <td id=\"T_f2e8497c_28b4_11e9_9906_0242ac1c0002row11_col11\" class=\"data row11 col11\" >1</td> \n",
              "        <td id=\"T_f2e8497c_28b4_11e9_9906_0242ac1c0002row11_col12\" class=\"data row11 col12\" >0.5</td> \n",
              "    </tr>    <tr> \n",
              "        <th id=\"T_f2e8497c_28b4_11e9_9906_0242ac1c0002level0_row12\" class=\"row_heading level0 row12\" >Q100</th> \n",
              "        <td id=\"T_f2e8497c_28b4_11e9_9906_0242ac1c0002row12_col0\" class=\"data row12 col0\" >0.16</td> \n",
              "        <td id=\"T_f2e8497c_28b4_11e9_9906_0242ac1c0002row12_col1\" class=\"data row12 col1\" >0.2</td> \n",
              "        <td id=\"T_f2e8497c_28b4_11e9_9906_0242ac1c0002row12_col2\" class=\"data row12 col2\" >0.2</td> \n",
              "        <td id=\"T_f2e8497c_28b4_11e9_9906_0242ac1c0002row12_col3\" class=\"data row12 col3\" >0.19</td> \n",
              "        <td id=\"T_f2e8497c_28b4_11e9_9906_0242ac1c0002row12_col4\" class=\"data row12 col4\" >0.19</td> \n",
              "        <td id=\"T_f2e8497c_28b4_11e9_9906_0242ac1c0002row12_col5\" class=\"data row12 col5\" >0.19</td> \n",
              "        <td id=\"T_f2e8497c_28b4_11e9_9906_0242ac1c0002row12_col6\" class=\"data row12 col6\" >0.22</td> \n",
              "        <td id=\"T_f2e8497c_28b4_11e9_9906_0242ac1c0002row12_col7\" class=\"data row12 col7\" >0.26</td> \n",
              "        <td id=\"T_f2e8497c_28b4_11e9_9906_0242ac1c0002row12_col8\" class=\"data row12 col8\" >0.33</td> \n",
              "        <td id=\"T_f2e8497c_28b4_11e9_9906_0242ac1c0002row12_col9\" class=\"data row12 col9\" >0.38</td> \n",
              "        <td id=\"T_f2e8497c_28b4_11e9_9906_0242ac1c0002row12_col10\" class=\"data row12 col10\" >0.43</td> \n",
              "        <td id=\"T_f2e8497c_28b4_11e9_9906_0242ac1c0002row12_col11\" class=\"data row12 col11\" >0.5</td> \n",
              "        <td id=\"T_f2e8497c_28b4_11e9_9906_0242ac1c0002row12_col12\" class=\"data row12 col12\" >1</td> \n",
              "    </tr></tbody> \n",
              "</table> "
            ],
            "text/plain": [
              "<pandas.io.formats.style.Styler at 0x7fa71f2287f0>"
            ]
          },
          "metadata": {
            "tags": []
          },
          "execution_count": 18
        }
      ]
    },
    {
      "metadata": {
        "id": "j7k_V0rOIAzm",
        "colab_type": "text"
      },
      "cell_type": "markdown",
      "source": [
        "# **Modeling**\n",
        "Splitting the data into train and test manually without cross validation. "
      ]
    },
    {
      "metadata": {
        "id": "I-8J6Q2pH4ZH",
        "colab_type": "code",
        "colab": {}
      },
      "cell_type": "code",
      "source": [
        "y = dataset.iloc[:,16]\n",
        "from sklearn.model_selection import train_test_split\n",
        "x_train_normal, x_test_normal, y_train_normal, y_test_normal = train_test_split(x_pca, y, test_size = 1/6, random_state = 0)"
      ],
      "execution_count": 0,
      "outputs": []
    },
    {
      "metadata": {
        "id": "SsYC2-ORPYYt",
        "colab_type": "text"
      },
      "cell_type": "markdown",
      "source": [
        "Let us a create function for MAPE"
      ]
    },
    {
      "metadata": {
        "id": "RzTI5be4D4vn",
        "colab_type": "code",
        "colab": {}
      },
      "cell_type": "code",
      "source": [
        "def mean_absolute_percentage_error(y_test, y_pred): \n",
        "    y_test, y_pred = np.array(y_test), np.array(y_pred)\n",
        "    return np.mean(np.abs((y_test - y_pred) / y_test)) * 100"
      ],
      "execution_count": 0,
      "outputs": []
    },
    {
      "metadata": {
        "id": "1cyX_PaaQDxX",
        "colab_type": "text"
      },
      "cell_type": "markdown",
      "source": [
        "# **Linear Model without Cross Validation**"
      ]
    },
    {
      "metadata": {
        "id": "P7ow-WDGJ0St",
        "colab_type": "code",
        "outputId": "c83fffae-2d62-47ad-fc3e-1ee2347860c5",
        "colab": {
          "base_uri": "https://localhost:8080/",
          "height": 106
        }
      },
      "cell_type": "code",
      "source": [
        "from sklearn import linear_model\n",
        "from sklearn.metrics import mean_squared_error,mean_absolute_error, r2_score\n",
        "regressor_linear=linear_model.LinearRegression() # instantiate linear regression\n",
        "regressor_linear.fit(x_train_normal, y_train_normal) # fitting linear regressor to training data\n",
        "y_pred_linear_test1=regressor_linear.predict(x_test_normal) # predicting the test dataset\n",
        "y_pred_linear_train1 = regressor_linear.predict(x_train_normal) #predicting the train dataset\n",
        "print('Variance score of linear: %.2f' % r2_score(y_test_normal, y_pred_linear_test1))  \n",
        "print('Mean Absolute Error for test:', mean_absolute_error(y_test_normal, y_pred_linear_test1))\n",
        "print('Mean Absolute Error for train:', mean_absolute_error(y_train_normal, y_pred_linear_train1))\n",
        "print(\"MAPE for test data: %.2f\" % mean_absolute_percentage_error(y_test_normal,y_pred_linear_test1))\n",
        "print(\"MAPE for train data: %.2f\" % mean_absolute_percentage_error(y_train_normal,y_pred_linear_train1))"
      ],
      "execution_count": 0,
      "outputs": [
        {
          "output_type": "stream",
          "text": [
            "Variance score of linear: 0.20\n",
            "Mean Absolute Error for test: 101746.79367460305\n",
            "Mean Absolute Error for train: 108838.96029139393\n",
            "MAPE for test data: 1083.54\n",
            "MAPE for train data: 642.29\n"
          ],
          "name": "stdout"
        }
      ]
    },
    {
      "metadata": {
        "id": "Nqqg805BLpP5",
        "colab_type": "text"
      },
      "cell_type": "markdown",
      "source": [
        "The model performance is considered better when the MAPE and MAE values are smaller. When the predicted values are close to the actual values, then both MAPE and MAE values will be lesser."
      ]
    },
    {
      "metadata": {
        "id": "_mSN3mpxQ6cI",
        "colab_type": "text"
      },
      "cell_type": "markdown",
      "source": [
        "# **Random Forest without Cross Validation**"
      ]
    },
    {
      "metadata": {
        "id": "hIuKqt1LQNNX",
        "colab_type": "code",
        "outputId": "a1d44179-66ec-425e-cfc0-8f0b3d8262b5",
        "colab": {
          "base_uri": "https://localhost:8080/",
          "height": 106
        }
      },
      "cell_type": "code",
      "source": [
        "from sklearn.ensemble import RandomForestRegressor\n",
        "from sklearn.metrics import mean_squared_error,mean_absolute_error, r2_score\n",
        "regressor_rf=RandomForestRegressor(n_estimators=20, random_state=0) #instatntiate random forest\n",
        "regressor_rf.fit(x_train_normal, y_train_normal) #fitting random forest to training data\n",
        "y_pred_rf_test1=regressor_rf.predict(x_test_normal) # predicting the test data\n",
        "y_pred_rf_train1 = regressor_rf.predict(x_train_normal) #predicting the train data\n",
        "print('Variance score of randomforest: %.2f' % r2_score(y_test_normal, y_pred_rf_test1))  \n",
        "print('Mean Absolute Error for test:', mean_absolute_error(y_test_normal, y_pred_rf_test1))\n",
        "print('Mean Absolute Error for train:', mean_absolute_error(y_train_normal, y_pred_rf_train1))\n",
        "print(\"MAPE for test data: %.2f\" % mean_absolute_percentage_error(y_test_normal,y_pred_rf_test1))\n",
        "print(\"MAPE for train data: %.2f\" % mean_absolute_percentage_error(y_train_normal,y_pred_rf_train1))"
      ],
      "execution_count": 0,
      "outputs": [
        {
          "output_type": "stream",
          "text": [
            "Variance score of randomforest: 0.26\n",
            "Mean Absolute Error for test: 100319.79578537875\n",
            "Mean Absolute Error for train: 81139.45425386047\n",
            "MAPE for test data: 2850.98\n",
            "MAPE for train data: 563.54\n"
          ],
          "name": "stdout"
        }
      ]
    },
    {
      "metadata": {
        "id": "mx4IUXAROlRs",
        "colab_type": "text"
      },
      "cell_type": "markdown",
      "source": [
        "# **GBM Model without Cross Validation**"
      ]
    },
    {
      "metadata": {
        "id": "NAD36_sIUYpm",
        "colab_type": "code",
        "outputId": "cdd06217-0b48-46ab-b047-fd4f610ac80d",
        "colab": {
          "base_uri": "https://localhost:8080/",
          "height": 141
        }
      },
      "cell_type": "code",
      "source": [
        "from sklearn.ensemble import GradientBoostingRegressor\n",
        "from sklearn.metrics import mean_squared_error,mean_absolute_error, r2_score\n",
        "gbrt=GradientBoostingRegressor(n_estimators=200) #instantiate the gbm model\n",
        "gbrt.fit(x_train_normal, y_train_normal) #fitting the gbm model to training  data\n",
        "y_pred_gbm=gbrt.predict(x_test_normal) #predicting the test dataset\n",
        "y_pred_gbm_train = gbrt.predict(x_train_normal) # predicting the train dataset\n",
        "print('Variance score of gbm: %.2f' % r2_score(y_test_normal, y_pred_gbm))  \n",
        "print('Mean Squared Error:', mean_squared_error(y_test_normal, y_pred_gbm))  \n",
        "print('Root Mean Squared Error:', np.sqrt(mean_squared_error(y_test_normal, y_pred_gbm)))\n",
        "print('Mean Absolute Error for test:', mean_absolute_error(y_test_normal, y_pred_gbm)) \n",
        "print('Mean Absolute Error for train:', mean_absolute_error(y_train_normal, y_pred_gbm_train))\n",
        "print(\"MAPE for test data in gbm: %.2f\" % mean_absolute_percentage_error(y_test_normal,y_pred_gbm))\n",
        "print(\"MAPE for train data in gbm: %.2f\" % mean_absolute_percentage_error(y_train_normal,y_pred_gbm_train))"
      ],
      "execution_count": 0,
      "outputs": [
        {
          "output_type": "stream",
          "text": [
            "Variance score of gbm: 0.39\n",
            "Mean Squared Error: 45479215522.51136\n",
            "Root Mean Squared Error: 213258.56494525925\n",
            "Mean Absolute Error for test: 90127.39166969336\n",
            "Mean Absolute Error for train: 74000.53147382912\n",
            "MAPE for test data in gbm: 1062.06\n",
            "MAPE for train data in gbm: 581.41\n"
          ],
          "name": "stdout"
        }
      ]
    },
    {
      "metadata": {
        "id": "PwnnE49jNN9g",
        "colab_type": "text"
      },
      "cell_type": "markdown",
      "source": [
        "Preparing a dataset for kfold cross validation "
      ]
    },
    {
      "metadata": {
        "id": "I0OaNPkrb1bZ",
        "colab_type": "code",
        "outputId": "c4cae49e-a4a3-484c-b944-d26d20658437",
        "colab": {
          "base_uri": "https://localhost:8080/",
          "height": 35
        }
      },
      "cell_type": "code",
      "source": [
        "kfold_dataset = pd.DataFrame(x_pca)\n",
        "print(type(kfold_dataset))\n",
        "kfold_dataset['POPESTIMATE2015'] = dataset.POPESTIMATE2015"
      ],
      "execution_count": 0,
      "outputs": [
        {
          "output_type": "stream",
          "text": [
            "<class 'pandas.core.frame.DataFrame'>\n"
          ],
          "name": "stdout"
        }
      ]
    },
    {
      "metadata": {
        "id": "r5Kb8IwKG0tG",
        "colab_type": "text"
      },
      "cell_type": "markdown",
      "source": [
        "**k fold cross validation:**\n",
        "\n",
        "In 10 fold cross validation, the dataset is divided into 10 different groups. The first dataset in each group is taken as a validation dataset and the remaining 9 datasets are considered as training datasets. We will fit the model on the training set and evaluate it on the test set. The evaluation score is retained and the model is discarded. Using the sample of model observation scores, the performance of the model is summarized. The below mentioned code is modified from the original code found in:\n",
        "\n",
        "https://stackoverflow.com/questions/43442072/pandas-how-can-i-do-cross-validation-without-using-scikit"
      ]
    },
    {
      "metadata": {
        "id": "1EX15h7mcNeU",
        "colab_type": "text"
      },
      "cell_type": "markdown",
      "source": [
        "# **Linear Regression Model with Cross Validation**"
      ]
    },
    {
      "metadata": {
        "id": "JFSgSQbUcTt5",
        "colab_type": "code",
        "outputId": "230cfb00-eee9-4c2b-8679-c06c9278e838",
        "colab": {
          "base_uri": "https://localhost:8080/",
          "height": 88
        }
      },
      "cell_type": "code",
      "source": [
        "from sklearn import linear_model\n",
        "from sklearn.metrics import mean_squared_error, mean_absolute_error,r2_score\n",
        "MAPE_test_value_linear = []\n",
        "MAPE_train_value_linear = []\n",
        "MAE_train_value_linear=[]\n",
        "MAE_test_value_linear=[]\n",
        "regressor=linear_model.LinearRegression() \n",
        "k = 10\n",
        "fold = np.array_split(kfold_dataset, k)\n",
        "\n",
        "def cv(regressor, train, test): #creating a function for cross validation\n",
        "    train_nolabel = train.pop('POPESTIMATE2015').values # remove labels from train data\n",
        "    test_nolabel = test.pop('POPESTIMATE2015').values # remove variables from test data\n",
        "    regressor.fit(train,train_nolabel)\n",
        "    pred_test=regressor.predict(test)\n",
        "    pred_train=regressor.predict(train)\n",
        "    MAPE_test_value_linear.append(mean_absolute_percentage_error(test_nolabel, pred_test)) \n",
        "    MAE_test_value_linear.append(mean_absolute_error(test_nolabel,pred_test) )\n",
        "    MAPE_train_value_linear.append(mean_absolute_percentage_error(train_nolabel, pred_train)) \n",
        "    MAE_train_value_linear.append(mean_absolute_error(train_nolabel, pred_train))\n",
        "\n",
        "for i in range(k): \n",
        "    train = fold.copy()\n",
        "    test = fold[i]\n",
        "    del train[i]\n",
        "    train = pd.concat(train)\n",
        "    cv(regressor, train.copy(), test.copy())\n",
        "    \n",
        "#calculating the standard deviations for MAPE and MAE of test and train data\n",
        "MAPE_test_value_linear_final = np.std(MAPE_test_value_linear)\n",
        "MAPE_train_value_linear_final = np.std(MAPE_train_value_linear)\n",
        "MAE_test_value_linear_final = np.std(MAE_test_value_linear)\n",
        "MAE_train_value_linear_final = np.std(MAE_train_value_linear)\n",
        "\n",
        "print('MAPE value for test(sd):',MAPE_test_value_linear_final)\n",
        "print('MAPE value for train(sd):',MAPE_train_value_linear_final)\n",
        "print('MAE value for test(sd):', MAE_test_value_linear_final)\n",
        "print('MAE value for train(sd):',MAE_train_value_linear_final)"
      ],
      "execution_count": 0,
      "outputs": [
        {
          "output_type": "stream",
          "text": [
            "MAPE value for test(sd): 179.33216618700962\n",
            "MAPE value for train(sd): 44.974289725260746\n",
            "MAE value for test(sd): 17105.276772101028\n",
            "MAE value for train(sd): 3969.0797984074015\n"
          ],
          "name": "stdout"
        }
      ]
    },
    {
      "metadata": {
        "id": "ZvRNrmP33O96",
        "colab_type": "text"
      },
      "cell_type": "markdown",
      "source": [
        "# **Random Forest Regressor with Cross Validation**"
      ]
    },
    {
      "metadata": {
        "id": "xtBFB9Ea01HM",
        "colab_type": "code",
        "outputId": "6fe816b2-ceaf-4ba4-a22a-9672687f556a",
        "colab": {
          "base_uri": "https://localhost:8080/",
          "height": 88
        }
      },
      "cell_type": "code",
      "source": [
        "from sklearn.ensemble import RandomForestRegressor\n",
        "from sklearn.metrics import mean_squared_error, mean_absolute_error\n",
        "MAPE_test_value_rf = []\n",
        "MAPE_train_value_rf = []\n",
        "MAE_train_value_rf=[]\n",
        "MAE_test_value_rf=[]\n",
        "\n",
        "regressor = RandomForestRegressor(n_estimators=200, random_state=0)\n",
        "\n",
        "k = 10\n",
        "fold = np.array_split(kfold_dataset, k)\n",
        "\n",
        "def cv(regressor, train, test): #defining function for cross validation\n",
        "    train_nolabel = train.pop('POPESTIMATE2015').values \n",
        "    test_nolabel = test.pop('POPESTIMATE2015').values\n",
        "    regressor.fit(train,train_nolabel)\n",
        "    pred_test=regressor.predict(test)\n",
        "    pred_train=regressor.predict(train)\n",
        "    MAPE_test_value_rf.append(mean_absolute_percentage_error(test_nolabel, pred_test)) \n",
        "    MAE_test_value_rf.append(mean_absolute_error(test_nolabel,pred_test) )\n",
        "    MAPE_train_value_rf.append(mean_absolute_percentage_error(train_nolabel, pred_train)) \n",
        "    MAE_train_value_rf.append(mean_absolute_error(train_nolabel, pred_train))\n",
        "\n",
        "for i in range(k): \n",
        "    train = fold.copy()\n",
        "    test = fold[i]\n",
        "    del train[i]\n",
        "    train = pd.concat(train)\n",
        "    cv(regressor, train.copy(), test.copy())\n",
        "    \n",
        "#calculating the standard deviations for MAPE and MAE of test and train data\n",
        "MAPE_test_value_rf_final = np.std(MAPE_test_value_rf)\n",
        "MAPE_train_value_rf_final = np.std(MAPE_train_value_rf)\n",
        "MAE_test_value_rf_final = np.std(MAE_test_value_rf)\n",
        "MAE_train_value_rf_final = np.std(MAE_train_value_rf)\n",
        "\n",
        "print('MAPE value for test(sd):',MAPE_test_value_rf_final)\n",
        "print('MAPE value for train(sd):',MAPE_train_value_rf_final)\n",
        "print('MAE value for test(sd):', MAE_test_value_rf_final)\n",
        "print('MAE value for train(sd):',MAE_train_value_rf_final)"
      ],
      "execution_count": 0,
      "outputs": [
        {
          "output_type": "stream",
          "text": [
            "MAPE value for test(sd): 385.62522745489974\n",
            "MAPE value for train(sd): 44.86113485190125\n",
            "MAE value for test(sd): 21666.07621315564\n",
            "MAE value for train(sd): 3383.3261180308355\n"
          ],
          "name": "stdout"
        }
      ]
    },
    {
      "metadata": {
        "id": "gAi3waDNWUot",
        "colab_type": "text"
      },
      "cell_type": "markdown",
      "source": [
        "# **  Gradient Boosting Model with Cross Validation**"
      ]
    },
    {
      "metadata": {
        "id": "vIgbu7dz3iAg",
        "colab_type": "code",
        "outputId": "4c157106-a30e-4f35-e89c-e645330f9e7b",
        "colab": {
          "base_uri": "https://localhost:8080/",
          "height": 88
        }
      },
      "cell_type": "code",
      "source": [
        "from sklearn.ensemble import GradientBoostingRegressor\n",
        "from sklearn.metrics import mean_squared_error, mean_absolute_error\n",
        "MAPE_test_value_gbm = []\n",
        "MAPE_train_value_gbm = []\n",
        "MAE_train_value_gbm=[]\n",
        "MAE_test_value_gbm=[]\n",
        "\n",
        "regressor=GradientBoostingRegressor(n_estimators=200)\n",
        "\n",
        "k = 10\n",
        "fold = np.array_split(kfold_dataset, k)\n",
        "\n",
        "def cv(regressor, train, test): #defining the function for cross validation\n",
        "    # remove labels from data\n",
        "    train_nolabel = train.pop('POPESTIMATE2015').values\n",
        "    test_nolabel = test.pop('POPESTIMATE2015').values\n",
        "    regressor.fit(train,train_nolabel)\n",
        "    pred_test=regressor.predict(test)\n",
        "    pred_train=regressor.predict(train)\n",
        "    MAPE_test_value_gbm.append(mean_absolute_percentage_error(test_nolabel, pred_test)) \n",
        "    MAE_test_value_gbm.append(mean_absolute_error(test_nolabel,pred_test) )\n",
        "    MAPE_train_value_gbm.append(mean_absolute_percentage_error(train_nolabel, pred_train)) \n",
        "    MAE_train_value_gbm.append(mean_absolute_error(train_nolabel, pred_train))\n",
        "\n",
        "for i in range(k): \n",
        "    train = fold.copy()\n",
        "    test = fold[i]\n",
        "    del train[i]\n",
        "    train = pd.concat(train)\n",
        "    cv(regressor, train.copy(), test.copy())\n",
        "    \n",
        "#calculating the standard deviations for MAPE and MAE of test and train data\n",
        "MAPE_test_value_gbm_final = np.std(MAPE_test_value_gbm)\n",
        "MAPE_train_value_gbm_final = np.std(MAPE_train_value_gbm)\n",
        "MAE_test_value_gbm_final = np.std(MAE_test_value_gbm)\n",
        "MAE_train_value_gbm_final = np.std(MAE_train_value_gbm)\n",
        "\n",
        "print('MAPE value for test(sd):',MAPE_test_value_gbm_final)\n",
        "print('MAPE value for train(sd):',MAPE_train_value_gbm_final)\n",
        "print('MAE value for test(sd):', MAE_test_value_gbm_final)\n",
        "print('MAE value for train(sd):',MAE_train_value_gbm_final)"
      ],
      "execution_count": 0,
      "outputs": [
        {
          "output_type": "stream",
          "text": [
            "MAPE value for test(sd): 123.11803770323655\n",
            "MAPE value for train(sd): 25.310302771973088\n",
            "MAE value for test(sd): 21527.391648980578\n",
            "MAE value for train(sd): 3172.9118197721937\n"
          ],
          "name": "stdout"
        }
      ]
    },
    {
      "metadata": {
        "id": "C5LaDYPFAXuU",
        "colab_type": "text"
      },
      "cell_type": "markdown",
      "source": [
        "The variation of MAPE and the variation of MAE values are less for GBM model when compared to linear regression and Random forest regression. So GBM model performs well in our problem setting for this dataset."
      ]
    },
    {
      "metadata": {
        "id": "Wnax_s02SYSq",
        "colab_type": "text"
      },
      "cell_type": "markdown",
      "source": [
        "# **Table showing MAPE, MAE values for Test and Train data**"
      ]
    },
    {
      "metadata": {
        "id": "t8r7RTcLE2uv",
        "colab_type": "code",
        "outputId": "efb02f0e-2b21-47f9-8a18-90f950d8e418",
        "colab": {
          "base_uri": "https://localhost:8080/",
          "height": 88
        }
      },
      "cell_type": "code",
      "source": [
        "Table={'Model_name':['linear','random_forest','GBM'], 'MAPE_TEST(sd)':[MAPE_test_value_linear_final,MAPE_test_value_rf_final,MAPE_test_value_gbm_final],'MAE_TEST(sd)':[MAE_test_value_linear_final,MAE_test_value_rf_final,MAE_test_value_gbm_final],'MAPE_TRAIN(sd)':[MAPE_train_value_linear_final,MAPE_train_value_rf_final,MAPE_train_value_gbm_final],'MAE_TRAIN(sd)':[MAE_train_value_linear_final,MAE_train_value_rf_final,MAE_train_value_gbm_final]}\n",
        "Table_1 = pd.DataFrame(Table)\n",
        "print(Table_1)"
      ],
      "execution_count": 0,
      "outputs": [
        {
          "output_type": "stream",
          "text": [
            "   MAE_TEST(sd)  MAE_TRAIN(sd)  MAPE_TEST(sd)  MAPE_TRAIN(sd)     Model_name\n",
            "0  17105.276772    3969.079798     179.332166       44.974290         linear\n",
            "1  21666.076213    3383.326118     385.625227       44.861135  random_forest\n",
            "2  21527.391649    3172.911820     123.118038       25.310303            GBM\n"
          ],
          "name": "stdout"
        }
      ]
    },
    {
      "metadata": {
        "id": "fZKkWmFnRoix",
        "colab_type": "text"
      },
      "cell_type": "markdown",
      "source": [
        "# **50 Worst Predicted Counties**\n",
        "\n",
        "I am using the predicted values of gbm model to compare with the true value of population. The 50 worst predicted counties are shown below\n"
      ]
    },
    {
      "metadata": {
        "id": "LTVeWivthntU",
        "colab_type": "code",
        "outputId": "435913d1-fd78-4638-9b4a-7f783c394a3d",
        "colab": {
          "base_uri": "https://localhost:8080/",
          "height": 1514
        }
      },
      "cell_type": "code",
      "source": [
        "y_pred_final = abs(y_pred_gbm-y_test_normal) #calculating absolute difference between true and predicted values\n",
        "Final_dataset = dataset\n",
        "Final_dataset['POPESTIMATE_PRED'] = y_pred_final\n",
        "worst_50 = Final_dataset.nlargest(50, 'POPESTIMATE_PRED')  # finding the 50 highest values and transferring it to worst_50\n",
        "worst_50_county = pd.DataFrame(worst_50,columns=['CTYNAME','POPESTIMATE_PRED','POPESTIMATE2015'])\n",
        "worst_50_county"
      ],
      "execution_count": 0,
      "outputs": [
        {
          "output_type": "execute_result",
          "data": {
            "text/html": [
              "<div>\n",
              "<style scoped>\n",
              "    .dataframe tbody tr th:only-of-type {\n",
              "        vertical-align: middle;\n",
              "    }\n",
              "\n",
              "    .dataframe tbody tr th {\n",
              "        vertical-align: top;\n",
              "    }\n",
              "\n",
              "    .dataframe thead th {\n",
              "        text-align: right;\n",
              "    }\n",
              "</style>\n",
              "<table border=\"1\" class=\"dataframe\">\n",
              "  <thead>\n",
              "    <tr style=\"text-align: right;\">\n",
              "      <th></th>\n",
              "      <th>CTYNAME</th>\n",
              "      <th>POPESTIMATE_PRED</th>\n",
              "      <th>POPESTIMATE2015</th>\n",
              "    </tr>\n",
              "  </thead>\n",
              "  <tbody>\n",
              "    <tr>\n",
              "      <th>1997</th>\n",
              "      <td>Queens</td>\n",
              "      <td>2.240783e+06</td>\n",
              "      <td>2346005</td>\n",
              "    </tr>\n",
              "    <tr>\n",
              "      <th>1697</th>\n",
              "      <td>Riverside</td>\n",
              "      <td>2.085303e+06</td>\n",
              "      <td>2352080</td>\n",
              "    </tr>\n",
              "    <tr>\n",
              "      <th>2310</th>\n",
              "      <td>Orange</td>\n",
              "      <td>1.074274e+06</td>\n",
              "      <td>3160576</td>\n",
              "    </tr>\n",
              "    <tr>\n",
              "      <th>1873</th>\n",
              "      <td>Pinellas</td>\n",
              "      <td>9.116129e+05</td>\n",
              "      <td>949321</td>\n",
              "    </tr>\n",
              "    <tr>\n",
              "      <th>1709</th>\n",
              "      <td>Marion</td>\n",
              "      <td>8.350129e+05</td>\n",
              "      <td>940235</td>\n",
              "    </tr>\n",
              "    <tr>\n",
              "      <th>2027</th>\n",
              "      <td>Macomb</td>\n",
              "      <td>7.587569e+05</td>\n",
              "      <td>863979</td>\n",
              "    </tr>\n",
              "    <tr>\n",
              "      <th>1042</th>\n",
              "      <td>Mecklenburg</td>\n",
              "      <td>7.103595e+05</td>\n",
              "      <td>1034442</td>\n",
              "    </tr>\n",
              "    <tr>\n",
              "      <th>1136</th>\n",
              "      <td>Hamilton</td>\n",
              "      <td>7.031829e+05</td>\n",
              "      <td>808405</td>\n",
              "    </tr>\n",
              "    <tr>\n",
              "      <th>710</th>\n",
              "      <td>Essex</td>\n",
              "      <td>6.722159e+05</td>\n",
              "      <td>777438</td>\n",
              "    </tr>\n",
              "    <tr>\n",
              "      <th>482</th>\n",
              "      <td>Snohomish</td>\n",
              "      <td>6.642219e+05</td>\n",
              "      <td>769444</td>\n",
              "    </tr>\n",
              "    <tr>\n",
              "      <th>1814</th>\n",
              "      <td>El Paso</td>\n",
              "      <td>6.440468e+05</td>\n",
              "      <td>672453</td>\n",
              "    </tr>\n",
              "    <tr>\n",
              "      <th>682</th>\n",
              "      <td>Hudson</td>\n",
              "      <td>5.746849e+05</td>\n",
              "      <td>679907</td>\n",
              "    </tr>\n",
              "    <tr>\n",
              "      <th>1767</th>\n",
              "      <td>Providence</td>\n",
              "      <td>5.282969e+05</td>\n",
              "      <td>633519</td>\n",
              "    </tr>\n",
              "    <tr>\n",
              "      <th>1817</th>\n",
              "      <td>Arapahoe</td>\n",
              "      <td>5.236119e+05</td>\n",
              "      <td>628834</td>\n",
              "    </tr>\n",
              "    <tr>\n",
              "      <th>733</th>\n",
              "      <td>Jefferson</td>\n",
              "      <td>4.993314e+05</td>\n",
              "      <td>254889</td>\n",
              "    </tr>\n",
              "    <tr>\n",
              "      <th>2205</th>\n",
              "      <td>Culberson</td>\n",
              "      <td>4.221626e+05</td>\n",
              "      <td>2251</td>\n",
              "    </tr>\n",
              "    <tr>\n",
              "      <th>487</th>\n",
              "      <td>Fayette</td>\n",
              "      <td>3.712376e+05</td>\n",
              "      <td>315055</td>\n",
              "    </tr>\n",
              "    <tr>\n",
              "      <th>961</th>\n",
              "      <td>Hampden</td>\n",
              "      <td>3.646099e+05</td>\n",
              "      <td>469832</td>\n",
              "    </tr>\n",
              "    <tr>\n",
              "      <th>2387</th>\n",
              "      <td>Karnes</td>\n",
              "      <td>3.246059e+05</td>\n",
              "      <td>15247</td>\n",
              "    </tr>\n",
              "    <tr>\n",
              "      <th>2215</th>\n",
              "      <td>San Mateo</td>\n",
              "      <td>3.108870e+05</td>\n",
              "      <td>766779</td>\n",
              "    </tr>\n",
              "    <tr>\n",
              "      <th>405</th>\n",
              "      <td>Floyd</td>\n",
              "      <td>3.053793e+05</td>\n",
              "      <td>76519</td>\n",
              "    </tr>\n",
              "    <tr>\n",
              "      <th>2165</th>\n",
              "      <td>Butler</td>\n",
              "      <td>2.703469e+05</td>\n",
              "      <td>375569</td>\n",
              "    </tr>\n",
              "    <tr>\n",
              "      <th>1703</th>\n",
              "      <td>Loudoun</td>\n",
              "      <td>2.694749e+05</td>\n",
              "      <td>374697</td>\n",
              "    </tr>\n",
              "    <tr>\n",
              "      <th>2279</th>\n",
              "      <td>Westmoreland</td>\n",
              "      <td>2.517729e+05</td>\n",
              "      <td>356995</td>\n",
              "    </tr>\n",
              "    <tr>\n",
              "      <th>1592</th>\n",
              "      <td>Davis</td>\n",
              "      <td>2.296119e+05</td>\n",
              "      <td>334834</td>\n",
              "    </tr>\n",
              "    <tr>\n",
              "      <th>1853</th>\n",
              "      <td>Larimer</td>\n",
              "      <td>2.276179e+05</td>\n",
              "      <td>332840</td>\n",
              "    </tr>\n",
              "    <tr>\n",
              "      <th>2144</th>\n",
              "      <td>Fredericksburg city</td>\n",
              "      <td>2.144231e+05</td>\n",
              "      <td>27985</td>\n",
              "    </tr>\n",
              "    <tr>\n",
              "      <th>1841</th>\n",
              "      <td>Loving</td>\n",
              "      <td>2.137040e+05</td>\n",
              "      <td>119</td>\n",
              "    </tr>\n",
              "    <tr>\n",
              "      <th>1607</th>\n",
              "      <td>Rockwall</td>\n",
              "      <td>2.100853e+05</td>\n",
              "      <td>90121</td>\n",
              "    </tr>\n",
              "    <tr>\n",
              "      <th>1118</th>\n",
              "      <td>Eddy</td>\n",
              "      <td>2.065285e+05</td>\n",
              "      <td>57479</td>\n",
              "    </tr>\n",
              "    <tr>\n",
              "      <th>302</th>\n",
              "      <td>Williamson</td>\n",
              "      <td>1.857344e+05</td>\n",
              "      <td>507420</td>\n",
              "    </tr>\n",
              "    <tr>\n",
              "      <th>995</th>\n",
              "      <td>Cumberland</td>\n",
              "      <td>1.841389e+05</td>\n",
              "      <td>289361</td>\n",
              "    </tr>\n",
              "    <tr>\n",
              "      <th>2411</th>\n",
              "      <td>Warren</td>\n",
              "      <td>1.639935e+05</td>\n",
              "      <td>123737</td>\n",
              "    </tr>\n",
              "    <tr>\n",
              "      <th>1032</th>\n",
              "      <td>Pasquotank</td>\n",
              "      <td>1.611397e+05</td>\n",
              "      <td>39385</td>\n",
              "    </tr>\n",
              "    <tr>\n",
              "      <th>9</th>\n",
              "      <td>Lafayette Parish</td>\n",
              "      <td>1.433212e+05</td>\n",
              "      <td>239665</td>\n",
              "    </tr>\n",
              "    <tr>\n",
              "      <th>326</th>\n",
              "      <td>Durham</td>\n",
              "      <td>1.349757e+05</td>\n",
              "      <td>301174</td>\n",
              "    </tr>\n",
              "    <tr>\n",
              "      <th>1122</th>\n",
              "      <td>Arlington</td>\n",
              "      <td>1.237469e+05</td>\n",
              "      <td>228969</td>\n",
              "    </tr>\n",
              "    <tr>\n",
              "      <th>829</th>\n",
              "      <td>Suffolk city</td>\n",
              "      <td>1.199854e+05</td>\n",
              "      <td>88103</td>\n",
              "    </tr>\n",
              "    <tr>\n",
              "      <th>748</th>\n",
              "      <td>Boone</td>\n",
              "      <td>1.197620e+05</td>\n",
              "      <td>23241</td>\n",
              "    </tr>\n",
              "    <tr>\n",
              "      <th>2480</th>\n",
              "      <td>Warren</td>\n",
              "      <td>1.185129e+05</td>\n",
              "      <td>223735</td>\n",
              "    </tr>\n",
              "    <tr>\n",
              "      <th>1624</th>\n",
              "      <td>Linn</td>\n",
              "      <td>1.147489e+05</td>\n",
              "      <td>219971</td>\n",
              "    </tr>\n",
              "    <tr>\n",
              "      <th>2170</th>\n",
              "      <td>Barnstable</td>\n",
              "      <td>1.085509e+05</td>\n",
              "      <td>213773</td>\n",
              "    </tr>\n",
              "    <tr>\n",
              "      <th>1856</th>\n",
              "      <td>Baldwin</td>\n",
              "      <td>1.071008e+05</td>\n",
              "      <td>202863</td>\n",
              "    </tr>\n",
              "    <tr>\n",
              "      <th>1063</th>\n",
              "      <td>Hinds</td>\n",
              "      <td>1.067272e+05</td>\n",
              "      <td>243665</td>\n",
              "    </tr>\n",
              "    <tr>\n",
              "      <th>333</th>\n",
              "      <td>Banner</td>\n",
              "      <td>1.045071e+05</td>\n",
              "      <td>715</td>\n",
              "    </tr>\n",
              "    <tr>\n",
              "      <th>962</th>\n",
              "      <td>Slope</td>\n",
              "      <td>1.044401e+05</td>\n",
              "      <td>782</td>\n",
              "    </tr>\n",
              "    <tr>\n",
              "      <th>1301</th>\n",
              "      <td>Campbell</td>\n",
              "      <td>1.038081e+05</td>\n",
              "      <td>1414</td>\n",
              "    </tr>\n",
              "    <tr>\n",
              "      <th>53</th>\n",
              "      <td>Dundy</td>\n",
              "      <td>1.034481e+05</td>\n",
              "      <td>1774</td>\n",
              "    </tr>\n",
              "    <tr>\n",
              "      <th>1585</th>\n",
              "      <td>Gilliam</td>\n",
              "      <td>1.033551e+05</td>\n",
              "      <td>1867</td>\n",
              "    </tr>\n",
              "    <tr>\n",
              "      <th>1683</th>\n",
              "      <td>Garden</td>\n",
              "      <td>1.033061e+05</td>\n",
              "      <td>1916</td>\n",
              "    </tr>\n",
              "  </tbody>\n",
              "</table>\n",
              "</div>"
            ],
            "text/plain": [
              "                  CTYNAME  POPESTIMATE_PRED  POPESTIMATE2015\n",
              "1997               Queens      2.240783e+06          2346005\n",
              "1697            Riverside      2.085303e+06          2352080\n",
              "2310               Orange      1.074274e+06          3160576\n",
              "1873             Pinellas      9.116129e+05           949321\n",
              "1709               Marion      8.350129e+05           940235\n",
              "2027               Macomb      7.587569e+05           863979\n",
              "1042          Mecklenburg      7.103595e+05          1034442\n",
              "1136             Hamilton      7.031829e+05           808405\n",
              "710                 Essex      6.722159e+05           777438\n",
              "482             Snohomish      6.642219e+05           769444\n",
              "1814              El Paso      6.440468e+05           672453\n",
              "682                Hudson      5.746849e+05           679907\n",
              "1767           Providence      5.282969e+05           633519\n",
              "1817             Arapahoe      5.236119e+05           628834\n",
              "733             Jefferson      4.993314e+05           254889\n",
              "2205            Culberson      4.221626e+05             2251\n",
              "487               Fayette      3.712376e+05           315055\n",
              "961               Hampden      3.646099e+05           469832\n",
              "2387               Karnes      3.246059e+05            15247\n",
              "2215            San Mateo      3.108870e+05           766779\n",
              "405                 Floyd      3.053793e+05            76519\n",
              "2165               Butler      2.703469e+05           375569\n",
              "1703              Loudoun      2.694749e+05           374697\n",
              "2279         Westmoreland      2.517729e+05           356995\n",
              "1592                Davis      2.296119e+05           334834\n",
              "1853              Larimer      2.276179e+05           332840\n",
              "2144  Fredericksburg city      2.144231e+05            27985\n",
              "1841               Loving      2.137040e+05              119\n",
              "1607             Rockwall      2.100853e+05            90121\n",
              "1118                 Eddy      2.065285e+05            57479\n",
              "302            Williamson      1.857344e+05           507420\n",
              "995            Cumberland      1.841389e+05           289361\n",
              "2411               Warren      1.639935e+05           123737\n",
              "1032           Pasquotank      1.611397e+05            39385\n",
              "9        Lafayette Parish      1.433212e+05           239665\n",
              "326                Durham      1.349757e+05           301174\n",
              "1122            Arlington      1.237469e+05           228969\n",
              "829          Suffolk city      1.199854e+05            88103\n",
              "748                 Boone      1.197620e+05            23241\n",
              "2480               Warren      1.185129e+05           223735\n",
              "1624                 Linn      1.147489e+05           219971\n",
              "2170           Barnstable      1.085509e+05           213773\n",
              "1856              Baldwin      1.071008e+05           202863\n",
              "1063                Hinds      1.067272e+05           243665\n",
              "333                Banner      1.045071e+05              715\n",
              "962                 Slope      1.044401e+05              782\n",
              "1301             Campbell      1.038081e+05             1414\n",
              "53                  Dundy      1.034481e+05             1774\n",
              "1585              Gilliam      1.033551e+05             1867\n",
              "1683               Garden      1.033061e+05             1916"
            ]
          },
          "metadata": {
            "tags": []
          },
          "execution_count": 34
        }
      ]
    },
    {
      "metadata": {
        "id": "p7blkKsTO3cA",
        "colab_type": "code",
        "outputId": "361d8084-3b05-4404-dbec-a4161063bb07",
        "colab": {
          "base_uri": "https://localhost:8080/",
          "height": 379
        }
      },
      "cell_type": "code",
      "source": [
        "x_plot = worst_50_county['POPESTIMATE_PRED']\n",
        "y_plot = worst_50_county['POPESTIMATE2015']\n",
        "plt.scatter(x_plot,y_plot, color='red')\n",
        "plt.xlabel(\"Predicted\")\n",
        "plt.ylabel(\"Actual\")"
      ],
      "execution_count": 0,
      "outputs": [
        {
          "output_type": "execute_result",
          "data": {
            "text/plain": [
              "Text(0, 0.5, 'Actual')"
            ]
          },
          "metadata": {
            "tags": []
          },
          "execution_count": 35
        },
        {
          "output_type": "display_data",
          "data": {
            "image/png": "[encoded data removed]",
            "text/plain": [
              "<Figure size 576x396 with 1 Axes>"
            ]
          },
          "metadata": {
            "tags": []
          }
        }
      ]
    },
    {
      "metadata": {
        "id": "qMODSQJdz1aP",
        "colab_type": "text"
      },
      "cell_type": "markdown",
      "source": [
        "# **MAPE and MAE for CA,TX and FL**"
      ]
    },
    {
      "metadata": {
        "id": "YYvAgt3unvRH",
        "colab_type": "code",
        "colab": {}
      },
      "cell_type": "code",
      "source": [
        "dataset.iloc[:,0:16]\n",
        "x_state_test= dataset[(dataset.STNAME == 'California') | (dataset.STNAME == 'Texas')  | (dataset.STNAME == 'Florida') ] # creating test dataset only with CA,TX and FL\n",
        "x_state_train = dataset[(dataset.STNAME != 'California') & (dataset.STNAME != 'Texas')  & (dataset.STNAME != 'Florida')] #creating train dataset without CA,TX and FL\n",
        "x_train_new = x_state_train.iloc[:,1:13] #Selecting Q variables from the training dataset\n",
        "y_train_new = x_state_train.iloc[:,16] #Selecting the population estimate from the training dataset\n",
        "x_test_new  = x_state_test.iloc[:,1:13] #Selecting Q variables from the test dataset\n",
        "y_test_new  = x_state_test.iloc[:,16] #Selecting the population estimate from the test datatset"
      ],
      "execution_count": 0,
      "outputs": []
    },
    {
      "metadata": {
        "id": "0EE9VprWcIYS",
        "colab_type": "text"
      },
      "cell_type": "markdown",
      "source": [
        "We will GBM for prediction as we can see that performance of GBM is higher when compared to other models"
      ]
    },
    {
      "metadata": {
        "id": "SMe4mcv0rL52",
        "colab_type": "code",
        "colab": {}
      },
      "cell_type": "code",
      "source": [
        "from sklearn.ensemble import GradientBoostingRegressor\n",
        "gbrt1=GradientBoostingRegressor(n_estimators=200) \n",
        "gbrt1.fit(x_train_new, y_train_new) \n",
        "y_pred_gbm_state=gbrt1.predict(x_test_new)"
      ],
      "execution_count": 0,
      "outputs": []
    },
    {
      "metadata": {
        "id": "1JNwebFpmbDB",
        "colab_type": "code",
        "outputId": "75d460dd-7a6d-4f02-b491-02421c488304",
        "colab": {
          "base_uri": "https://localhost:8080/",
          "height": 721
        }
      },
      "cell_type": "code",
      "source": [
        "x_state_test['Predicted'] = y_pred_gbm_state\n",
        "x_state_test['MAPE'] = (abs(x_state_test['POPESTIMATE2015']-x_state_test['Predicted'])/abs(x_state_test['POPESTIMATE2015']))*100 #calculating MAPE value\n",
        "x_state_test['MAE']=abs(x_state_test['POPESTIMATE2015']-x_state_test['Predicted'])#Calculating MAE value\n",
        "plt.ylim(0,1000)\n",
        "sns.set(style=\"whitegrid\")\n",
        "ax = sns.boxplot(y=\"MAPE\", x=\"STNAME\",showfliers=False, data=x_state_test)"
      ],
      "execution_count": 0,
      "outputs": [
        {
          "output_type": "stream",
          "text": [
            "/usr/local/lib/python3.6/dist-packages/ipykernel_launcher.py:1: SettingWithCopyWarning: \n",
            "A value is trying to be set on a copy of a slice from a DataFrame.\n",
            "Try using .loc[row_indexer,col_indexer] = value instead\n",
            "\n",
            "See the caveats in the documentation: http://pandas.pydata.org/pandas-docs/stable/indexing.html#indexing-view-versus-copy\n",
            "  \"\"\"Entry point for launching an IPython kernel.\n",
            "/usr/local/lib/python3.6/dist-packages/ipykernel_launcher.py:2: SettingWithCopyWarning: \n",
            "A value is trying to be set on a copy of a slice from a DataFrame.\n",
            "Try using .loc[row_indexer,col_indexer] = value instead\n",
            "\n",
            "See the caveats in the documentation: http://pandas.pydata.org/pandas-docs/stable/indexing.html#indexing-view-versus-copy\n",
            "  \n",
            "/usr/local/lib/python3.6/dist-packages/ipykernel_launcher.py:3: SettingWithCopyWarning: \n",
            "A value is trying to be set on a copy of a slice from a DataFrame.\n",
            "Try using .loc[row_indexer,col_indexer] = value instead\n",
            "\n",
            "See the caveats in the documentation: http://pandas.pydata.org/pandas-docs/stable/indexing.html#indexing-view-versus-copy\n",
            "  This is separate from the ipykernel package so we can avoid doing imports until\n",
            "/usr/local/lib/python3.6/dist-packages/seaborn/categorical.py:454: FutureWarning: remove_na is deprecated and is a private function. Do not use.\n",
            "  box_data = remove_na(group_data)\n"
          ],
          "name": "stderr"
        },
        {
          "output_type": "display_data",
          "data": {
            "image/png": "[encoded data removed]",
            "text/plain": [
              "<Figure size 576x396 with 1 Axes>"
            ]
          },
          "metadata": {
            "tags": []
          }
        }
      ]
    },
    {
      "metadata": {
        "id": "JNatvdTSJTml",
        "colab_type": "text"
      },
      "cell_type": "markdown",
      "source": [
        "The MAPE values are distributed over a wide range for Texas when compared to California and Florida. Texas has a more number of citynames when compared to florida and California. The actual population spread is higher for Texas when compared to other two states. So when we calculate the percentage value and divide it by the total population, the range of values for Texas tends to go higher. "
      ]
    },
    {
      "metadata": {
        "id": "UJ72U3ymzo4h",
        "colab_type": "code",
        "outputId": "e4c0357d-3694-4371-bef7-3ecabf36902e",
        "colab": {
          "base_uri": "https://localhost:8080/",
          "height": 396
        }
      },
      "cell_type": "code",
      "source": [
        "ax = sns.boxplot(y=\"MAE\", x=\"STNAME\",showfliers=False, data=x_state_test)"
      ],
      "execution_count": 0,
      "outputs": [
        {
          "output_type": "stream",
          "text": [
            "/usr/local/lib/python3.6/dist-packages/seaborn/categorical.py:454: FutureWarning: remove_na is deprecated and is a private function. Do not use.\n",
            "  box_data = remove_na(group_data)\n"
          ],
          "name": "stderr"
        },
        {
          "output_type": "display_data",
          "data": {
            "image/png": "[encoded data removed]",
            "text/plain": [
              "<Figure size 576x396 with 1 Axes>"
            ]
          },
          "metadata": {
            "tags": []
          }
        }
      ]
    },
    {
      "metadata": {
        "id": "a-HuL47fJlra",
        "colab_type": "text"
      },
      "cell_type": "markdown",
      "source": [
        "The MAE values are distributed over a wide range for California when compared to Texas and Florida. California has large number of null records for Q values. So our model is unable to predict the population values for large number of counties accurately. Hence, MAE values are distributed over a large range for Texas when compared to California and Florida "
      ]
    }
  ]
}
